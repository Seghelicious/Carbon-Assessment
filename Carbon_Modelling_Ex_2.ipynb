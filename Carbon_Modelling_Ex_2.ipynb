{
  "nbformat": 4,
  "nbformat_minor": 0,
  "metadata": {
    "colab": {
      "name": "Carbon Modelling Ex.#2.ipynb",
      "provenance": [],
      "collapsed_sections": [],
      "toc_visible": true,
      "authorship_tag": "ABX9TyMsOlID8bxq5eNfzuLpwTfd",
      "include_colab_link": true
    },
    "kernelspec": {
      "display_name": "Python 3",
      "name": "python3"
    }
  },
  "cells": [
    {
      "cell_type": "markdown",
      "metadata": {
        "id": "view-in-github",
        "colab_type": "text"
      },
      "source": [
        "<a href=\"https://colab.research.google.com/github/Seghelicious/Carbon-Assessment/blob/main/Carbon_Modelling_Ex_2.ipynb\" target=\"_parent\"><img src=\"https://colab.research.google.com/assets/colab-badge.svg\" alt=\"Open In Colab\"/></a>"
      ]
    },
    {
      "cell_type": "markdown",
      "metadata": {
        "id": "NH_29kAgeiGQ"
      },
      "source": [
        "# **Carbon Modelling Exercise - Ex.#2**"
      ]
    },
    {
      "cell_type": "code",
      "metadata": {
        "colab": {
          "base_uri": "https://localhost:8080/"
        },
        "id": "CXV2wygT24oG",
        "outputId": "4be64d63-66ba-40a5-f593-e9f7922a1f5b"
      },
      "source": [
        "from google.colab import drive\r\n",
        "drive.mount('/content/drive')"
      ],
      "execution_count": null,
      "outputs": [
        {
          "output_type": "stream",
          "text": [
            "Drive already mounted at /content/drive; to attempt to forcibly remount, call drive.mount(\"/content/drive\", force_remount=True).\n"
          ],
          "name": "stdout"
        }
      ]
    },
    {
      "cell_type": "code",
      "metadata": {
        "id": "pPjI7Un8Ahhz"
      },
      "source": [
        "# Import libraries\r\n",
        "import pandas as pd\r\n",
        "import numpy as np\r\n",
        "from collections import Counter\r\n",
        "import sklearn\r\n",
        "from sklearn.utils import shuffle\r\n",
        "\r\n",
        "# Do not show warnings\r\n",
        "import warnings\r\n",
        "warnings.filterwarnings('ignore')\r\n",
        "\r\n",
        "# Import Matplotlib for visualization\r\n",
        "import matplotlib.pyplot as plt\r\n",
        "%matplotlib inline\r\n",
        "from matplotlib import pyplot\r\n",
        "from matplotlib import style\r\n",
        "plt.style.use('ggplot')\r\n",
        "import seaborn as sns\r\n",
        "from matplotlib import rcParams\r\n",
        "# figure size in inches\r\n",
        "rcParams['figure.figsize'] = 10, 7\r\n",
        "\r\n",
        "# Model Development libraries\r\n",
        "from sklearn.feature_selection import SelectKBest\r\n",
        "from sklearn.feature_selection import chi2\r\n",
        "from sklearn.pipeline import Pipeline\r\n",
        "from imblearn.over_sampling import SMOTE\r\n",
        "from sklearn.decomposition import PCA\r\n",
        "from sklearn.preprocessing import MinMaxScaler\r\n",
        "from sklearn.preprocessing import StandardScaler\r\n",
        "from sklearn.neighbors import KNeighborsClassifier\r\n",
        "from sklearn.ensemble import RandomForestClassifier\r\n",
        "from sklearn.linear_model import LogisticRegression\r\n",
        "import xgboost as xgb\r\n",
        "from xgboost import XGBClassifier\r\n",
        "from sklearn.model_selection import GridSearchCV\r\n",
        "from sklearn.model_selection import KFold, cross_val_score, train_test_split\r\n",
        "from sklearn import metrics\r\n",
        "from sklearn.metrics import classification_report, confusion_matrix\r\n",
        "from sklearn.metrics import f1_score, roc_auc_score, accuracy_score, roc_curve\r\n",
        "\r\n",
        "pd.options.display.float_format = '{:.6f}'.format\r\n",
        "pd.options.display.max_columns = None\r\n",
        "pd.options.display.max_rows = None"
      ],
      "execution_count": null,
      "outputs": []
    },
    {
      "cell_type": "code",
      "metadata": {
        "colab": {
          "base_uri": "https://localhost:8080/",
          "height": 224
        },
        "id": "seIMbCil_Vpq",
        "outputId": "e3a832cb-d7f7-46e1-d4b9-492eaa8be56f"
      },
      "source": [
        "ex2 = pd.read_csv('/content/drive/MyDrive/Carbon/Ex2 - Data.csv', index_col=0)\r\n",
        "ex2_dict = pd.read_excel('/content/drive/MyDrive/Carbon/Ex2 - Dictionary.xlsx')\r\n",
        "ex2.head()"
      ],
      "execution_count": null,
      "outputs": [
        {
          "output_type": "execute_result",
          "data": {
            "text/html": [
              "<div>\n",
              "<style scoped>\n",
              "    .dataframe tbody tr th:only-of-type {\n",
              "        vertical-align: middle;\n",
              "    }\n",
              "\n",
              "    .dataframe tbody tr th {\n",
              "        vertical-align: top;\n",
              "    }\n",
              "\n",
              "    .dataframe thead th {\n",
              "        text-align: right;\n",
              "    }\n",
              "</style>\n",
              "<table border=\"1\" class=\"dataframe\">\n",
              "  <thead>\n",
              "    <tr style=\"text-align: right;\">\n",
              "      <th></th>\n",
              "      <th>ID</th>\n",
              "      <th>Fold</th>\n",
              "      <th>Target</th>\n",
              "      <th>Var4</th>\n",
              "      <th>Var5</th>\n",
              "      <th>Var6</th>\n",
              "      <th>Var7</th>\n",
              "      <th>Var8</th>\n",
              "      <th>Var9</th>\n",
              "      <th>Var10</th>\n",
              "      <th>Var11</th>\n",
              "      <th>Var12</th>\n",
              "      <th>Var13</th>\n",
              "      <th>Var14</th>\n",
              "      <th>Var15</th>\n",
              "      <th>Var16</th>\n",
              "      <th>Var17</th>\n",
              "      <th>Var18</th>\n",
              "      <th>Var19</th>\n",
              "      <th>Var20</th>\n",
              "      <th>Var21</th>\n",
              "      <th>Var22</th>\n",
              "      <th>Var23</th>\n",
              "      <th>Var24</th>\n",
              "      <th>Var25</th>\n",
              "      <th>Var26</th>\n",
              "      <th>Var27</th>\n",
              "      <th>Var28</th>\n",
              "      <th>Var29</th>\n",
              "      <th>Var30</th>\n",
              "      <th>Var31</th>\n",
              "      <th>Var32</th>\n",
              "      <th>Var33</th>\n",
              "      <th>Var34</th>\n",
              "      <th>Var35</th>\n",
              "      <th>Var36</th>\n",
              "      <th>Var37</th>\n",
              "      <th>Var38</th>\n",
              "      <th>Var39</th>\n",
              "      <th>Var40</th>\n",
              "      <th>Var41</th>\n",
              "      <th>Var42</th>\n",
              "      <th>Var43</th>\n",
              "      <th>Var44</th>\n",
              "      <th>Var45</th>\n",
              "      <th>Var46</th>\n",
              "      <th>Var47</th>\n",
              "      <th>Var48</th>\n",
              "      <th>Var49</th>\n",
              "      <th>Var50</th>\n",
              "      <th>Var51</th>\n",
              "      <th>Var52</th>\n",
              "      <th>Var53</th>\n",
              "      <th>Var54</th>\n",
              "      <th>Var55</th>\n",
              "      <th>Var56</th>\n",
              "      <th>Var57</th>\n",
              "      <th>Var58</th>\n",
              "      <th>Var59</th>\n",
              "      <th>Var60</th>\n",
              "      <th>Var61</th>\n",
              "      <th>Var62</th>\n",
              "      <th>Var63</th>\n",
              "      <th>Var64</th>\n",
              "      <th>Var65</th>\n",
              "      <th>Var66</th>\n",
              "      <th>Var67</th>\n",
              "      <th>Var68</th>\n",
              "      <th>Var69</th>\n",
              "      <th>Var70</th>\n",
              "      <th>Var71</th>\n",
              "      <th>Var72</th>\n",
              "      <th>Var73</th>\n",
              "      <th>Var74</th>\n",
              "      <th>Var75</th>\n",
              "      <th>Var76</th>\n",
              "      <th>Var77</th>\n",
              "      <th>Var78</th>\n",
              "      <th>Var79</th>\n",
              "      <th>Var80</th>\n",
              "      <th>Var81</th>\n",
              "      <th>Var82</th>\n",
              "      <th>Var83</th>\n",
              "      <th>Var84</th>\n",
              "      <th>Var85</th>\n",
              "      <th>Var86</th>\n",
              "      <th>Var87</th>\n",
              "      <th>Var88</th>\n",
              "      <th>Var89</th>\n",
              "      <th>Var90</th>\n",
              "      <th>Var91</th>\n",
              "      <th>Var92</th>\n",
              "      <th>Var93</th>\n",
              "      <th>Var94</th>\n",
              "      <th>Var95</th>\n",
              "      <th>Var96</th>\n",
              "      <th>Var97</th>\n",
              "      <th>Var98</th>\n",
              "      <th>Var99</th>\n",
              "      <th>Var100</th>\n",
              "      <th>Var101</th>\n",
              "      <th>Var102</th>\n",
              "      <th>Var103</th>\n",
              "      <th>Var104</th>\n",
              "      <th>Var105</th>\n",
              "      <th>Var106</th>\n",
              "      <th>Var107</th>\n",
              "      <th>Var108</th>\n",
              "      <th>Var109</th>\n",
              "      <th>Var110</th>\n",
              "      <th>Var111</th>\n",
              "      <th>Var112</th>\n",
              "      <th>Var113</th>\n",
              "      <th>Var114</th>\n",
              "      <th>Var115</th>\n",
              "      <th>Var116</th>\n",
              "      <th>Var117</th>\n",
              "      <th>Var118</th>\n",
              "      <th>Var119</th>\n",
              "      <th>Var120</th>\n",
              "      <th>Var121</th>\n",
              "      <th>Var122</th>\n",
              "      <th>Var123</th>\n",
              "      <th>Var124</th>\n",
              "      <th>Var125</th>\n",
              "      <th>Var126</th>\n",
              "      <th>Var127</th>\n",
              "      <th>Var128</th>\n",
              "      <th>Var129</th>\n",
              "      <th>Var130</th>\n",
              "      <th>Var131</th>\n",
              "      <th>Var132</th>\n",
              "      <th>Var133</th>\n",
              "      <th>Var134</th>\n",
              "      <th>Var135</th>\n",
              "      <th>Var136</th>\n",
              "      <th>Var137</th>\n",
              "      <th>Var138</th>\n",
              "      <th>Var139</th>\n",
              "      <th>Var140</th>\n",
              "      <th>Var141</th>\n",
              "      <th>Var142</th>\n",
              "      <th>Var143</th>\n",
              "      <th>Var144</th>\n",
              "      <th>Var145</th>\n",
              "      <th>Var146</th>\n",
              "      <th>Var147</th>\n",
              "      <th>Var148</th>\n",
              "      <th>Var149</th>\n",
              "      <th>Var150</th>\n",
              "      <th>Var151</th>\n",
              "      <th>Var152</th>\n",
              "      <th>Var153</th>\n",
              "      <th>Var154</th>\n",
              "      <th>Var155</th>\n",
              "      <th>Var156</th>\n",
              "      <th>Var157</th>\n",
              "      <th>Var158</th>\n",
              "      <th>Var159</th>\n",
              "      <th>Var160</th>\n",
              "      <th>Var161</th>\n",
              "      <th>Var162</th>\n",
              "      <th>Var163</th>\n",
              "    </tr>\n",
              "  </thead>\n",
              "  <tbody>\n",
              "    <tr>\n",
              "      <th>1</th>\n",
              "      <td>1</td>\n",
              "      <td>IS</td>\n",
              "      <td>0</td>\n",
              "      <td>40</td>\n",
              "      <td>3</td>\n",
              "      <td>1</td>\n",
              "      <td>5304.570000</td>\n",
              "      <td>0</td>\n",
              "      <td>18.609524</td>\n",
              "      <td>8</td>\n",
              "      <td>1</td>\n",
              "      <td>0</td>\n",
              "      <td>1.000000</td>\n",
              "      <td>5.000000</td>\n",
              "      <td>0</td>\n",
              "      <td>0</td>\n",
              "      <td>1</td>\n",
              "      <td>0</td>\n",
              "      <td>5</td>\n",
              "      <td>100</td>\n",
              "      <td>5</td>\n",
              "      <td>25</td>\n",
              "      <td>3</td>\n",
              "      <td>176.819000</td>\n",
              "      <td>530.457000</td>\n",
              "      <td>2</td>\n",
              "      <td>1</td>\n",
              "      <td>2</td>\n",
              "      <td>5</td>\n",
              "      <td>1</td>\n",
              "      <td>0</td>\n",
              "      <td>1</td>\n",
              "      <td>0</td>\n",
              "      <td>3</td>\n",
              "      <td>5</td>\n",
              "      <td>0</td>\n",
              "      <td>0</td>\n",
              "      <td>0</td>\n",
              "      <td>1</td>\n",
              "      <td>0</td>\n",
              "      <td>0</td>\n",
              "      <td>0</td>\n",
              "      <td>0</td>\n",
              "      <td>0.875000</td>\n",
              "      <td>1</td>\n",
              "      <td>2</td>\n",
              "      <td>2</td>\n",
              "      <td>1</td>\n",
              "      <td>2</td>\n",
              "      <td>2</td>\n",
              "      <td>2</td>\n",
              "      <td>2</td>\n",
              "      <td>0</td>\n",
              "      <td>12</td>\n",
              "      <td>12</td>\n",
              "      <td>18</td>\n",
              "      <td>12</td>\n",
              "      <td>0</td>\n",
              "      <td>0</td>\n",
              "      <td>2</td>\n",
              "      <td>0</td>\n",
              "      <td>0</td>\n",
              "      <td>0</td>\n",
              "      <td>0</td>\n",
              "      <td>0</td>\n",
              "      <td>0</td>\n",
              "      <td>1</td>\n",
              "      <td>1</td>\n",
              "      <td>0</td>\n",
              "      <td>1</td>\n",
              "      <td>1</td>\n",
              "      <td>0.433333</td>\n",
              "      <td>0.428571</td>\n",
              "      <td>2</td>\n",
              "      <td>2</td>\n",
              "      <td>2</td>\n",
              "      <td>2</td>\n",
              "      <td>2</td>\n",
              "      <td>2</td>\n",
              "      <td>3</td>\n",
              "      <td>0.640122</td>\n",
              "      <td>8.740000</td>\n",
              "      <td>884.095000</td>\n",
              "      <td>18</td>\n",
              "      <td>0.666667</td>\n",
              "      <td>2</td>\n",
              "      <td>2</td>\n",
              "      <td>2</td>\n",
              "      <td>2</td>\n",
              "      <td>2</td>\n",
              "      <td>4</td>\n",
              "      <td>1</td>\n",
              "      <td>1</td>\n",
              "      <td>0</td>\n",
              "      <td>13.500000</td>\n",
              "      <td>0</td>\n",
              "      <td>0</td>\n",
              "      <td>0</td>\n",
              "      <td>0</td>\n",
              "      <td>0</td>\n",
              "      <td>0</td>\n",
              "      <td>0</td>\n",
              "      <td>0</td>\n",
              "      <td>0</td>\n",
              "      <td>6</td>\n",
              "      <td>2</td>\n",
              "      <td>3</td>\n",
              "      <td>2</td>\n",
              "      <td>2</td>\n",
              "      <td>2</td>\n",
              "      <td>4</td>\n",
              "      <td>4</td>\n",
              "      <td>2</td>\n",
              "      <td>2</td>\n",
              "      <td>0</td>\n",
              "      <td>1</td>\n",
              "      <td>1</td>\n",
              "      <td>1</td>\n",
              "      <td>1</td>\n",
              "      <td>3</td>\n",
              "      <td>1</td>\n",
              "      <td>3</td>\n",
              "      <td>3</td>\n",
              "      <td>1</td>\n",
              "      <td>3</td>\n",
              "      <td>0</td>\n",
              "      <td>0</td>\n",
              "      <td>0</td>\n",
              "      <td>0.333300</td>\n",
              "      <td>5.000000</td>\n",
              "      <td>1.666700</td>\n",
              "      <td>0</td>\n",
              "      <td>1</td>\n",
              "      <td>1</td>\n",
              "      <td>5</td>\n",
              "      <td>11.379807</td>\n",
              "      <td>0</td>\n",
              "      <td>1</td>\n",
              "      <td>1</td>\n",
              "      <td>1</td>\n",
              "      <td>1</td>\n",
              "      <td>1</td>\n",
              "      <td>2</td>\n",
              "      <td>0</td>\n",
              "      <td>0</td>\n",
              "      <td>0</td>\n",
              "      <td>0</td>\n",
              "      <td>0</td>\n",
              "      <td>0</td>\n",
              "      <td>0</td>\n",
              "      <td>0</td>\n",
              "      <td>1</td>\n",
              "      <td>0</td>\n",
              "      <td>0</td>\n",
              "      <td>0</td>\n",
              "      <td>0</td>\n",
              "      <td>1</td>\n",
              "      <td>0</td>\n",
              "      <td>0</td>\n",
              "      <td>0</td>\n",
              "      <td>53.045700</td>\n",
              "      <td>1</td>\n",
              "      <td>6</td>\n",
              "    </tr>\n",
              "    <tr>\n",
              "      <th>2</th>\n",
              "      <td>2</td>\n",
              "      <td>IS</td>\n",
              "      <td>0</td>\n",
              "      <td>26</td>\n",
              "      <td>4</td>\n",
              "      <td>1</td>\n",
              "      <td>884.095000</td>\n",
              "      <td>0</td>\n",
              "      <td>25.970874</td>\n",
              "      <td>13</td>\n",
              "      <td>1</td>\n",
              "      <td>0</td>\n",
              "      <td>5.000000</td>\n",
              "      <td>15.000000</td>\n",
              "      <td>1</td>\n",
              "      <td>0</td>\n",
              "      <td>0</td>\n",
              "      <td>0</td>\n",
              "      <td>1</td>\n",
              "      <td>100</td>\n",
              "      <td>3</td>\n",
              "      <td>9</td>\n",
              "      <td>1</td>\n",
              "      <td>442.047500</td>\n",
              "      <td>618.866500</td>\n",
              "      <td>1</td>\n",
              "      <td>0</td>\n",
              "      <td>1</td>\n",
              "      <td>0</td>\n",
              "      <td>0</td>\n",
              "      <td>1</td>\n",
              "      <td>4</td>\n",
              "      <td>1</td>\n",
              "      <td>1</td>\n",
              "      <td>4</td>\n",
              "      <td>0</td>\n",
              "      <td>0</td>\n",
              "      <td>0</td>\n",
              "      <td>0</td>\n",
              "      <td>0</td>\n",
              "      <td>1</td>\n",
              "      <td>0</td>\n",
              "      <td>0</td>\n",
              "      <td>0.725000</td>\n",
              "      <td>2</td>\n",
              "      <td>3</td>\n",
              "      <td>4</td>\n",
              "      <td>2</td>\n",
              "      <td>2</td>\n",
              "      <td>2</td>\n",
              "      <td>2</td>\n",
              "      <td>1</td>\n",
              "      <td>1</td>\n",
              "      <td>14</td>\n",
              "      <td>22</td>\n",
              "      <td>16</td>\n",
              "      <td>14</td>\n",
              "      <td>0</td>\n",
              "      <td>0</td>\n",
              "      <td>2</td>\n",
              "      <td>1</td>\n",
              "      <td>1</td>\n",
              "      <td>1</td>\n",
              "      <td>0</td>\n",
              "      <td>0</td>\n",
              "      <td>0</td>\n",
              "      <td>0</td>\n",
              "      <td>2</td>\n",
              "      <td>1</td>\n",
              "      <td>0</td>\n",
              "      <td>0</td>\n",
              "      <td>0.533333</td>\n",
              "      <td>0.571429</td>\n",
              "      <td>2</td>\n",
              "      <td>2</td>\n",
              "      <td>4</td>\n",
              "      <td>4</td>\n",
              "      <td>2</td>\n",
              "      <td>4</td>\n",
              "      <td>2</td>\n",
              "      <td>0.980294</td>\n",
              "      <td>8.560000</td>\n",
              "      <td>1768.190000</td>\n",
              "      <td>24</td>\n",
              "      <td>0.533333</td>\n",
              "      <td>4</td>\n",
              "      <td>4</td>\n",
              "      <td>2</td>\n",
              "      <td>2</td>\n",
              "      <td>2</td>\n",
              "      <td>4</td>\n",
              "      <td>1</td>\n",
              "      <td>5</td>\n",
              "      <td>1</td>\n",
              "      <td>8.500000</td>\n",
              "      <td>0</td>\n",
              "      <td>1</td>\n",
              "      <td>1</td>\n",
              "      <td>1</td>\n",
              "      <td>0</td>\n",
              "      <td>0</td>\n",
              "      <td>0</td>\n",
              "      <td>0</td>\n",
              "      <td>0</td>\n",
              "      <td>7</td>\n",
              "      <td>2</td>\n",
              "      <td>4</td>\n",
              "      <td>2</td>\n",
              "      <td>4</td>\n",
              "      <td>4</td>\n",
              "      <td>4</td>\n",
              "      <td>4</td>\n",
              "      <td>2</td>\n",
              "      <td>0</td>\n",
              "      <td>1</td>\n",
              "      <td>0</td>\n",
              "      <td>1</td>\n",
              "      <td>2</td>\n",
              "      <td>1</td>\n",
              "      <td>1</td>\n",
              "      <td>3</td>\n",
              "      <td>3</td>\n",
              "      <td>3</td>\n",
              "      <td>3</td>\n",
              "      <td>1</td>\n",
              "      <td>0</td>\n",
              "      <td>1</td>\n",
              "      <td>0</td>\n",
              "      <td>0.714300</td>\n",
              "      <td>4.000000</td>\n",
              "      <td>2.857100</td>\n",
              "      <td>1</td>\n",
              "      <td>2</td>\n",
              "      <td>2</td>\n",
              "      <td>5</td>\n",
              "      <td>8.532292</td>\n",
              "      <td>0</td>\n",
              "      <td>1</td>\n",
              "      <td>1</td>\n",
              "      <td>1</td>\n",
              "      <td>2</td>\n",
              "      <td>2</td>\n",
              "      <td>1</td>\n",
              "      <td>0</td>\n",
              "      <td>1</td>\n",
              "      <td>1</td>\n",
              "      <td>0</td>\n",
              "      <td>0</td>\n",
              "      <td>0</td>\n",
              "      <td>0</td>\n",
              "      <td>0</td>\n",
              "      <td>0</td>\n",
              "      <td>0</td>\n",
              "      <td>0</td>\n",
              "      <td>0</td>\n",
              "      <td>0</td>\n",
              "      <td>0</td>\n",
              "      <td>0</td>\n",
              "      <td>0</td>\n",
              "      <td>0</td>\n",
              "      <td>884.095000</td>\n",
              "      <td>3</td>\n",
              "      <td>5</td>\n",
              "    </tr>\n",
              "    <tr>\n",
              "      <th>4</th>\n",
              "      <td>3</td>\n",
              "      <td>IS</td>\n",
              "      <td>0</td>\n",
              "      <td>30</td>\n",
              "      <td>2</td>\n",
              "      <td>1</td>\n",
              "      <td>3536.380000</td>\n",
              "      <td>0</td>\n",
              "      <td>25.686275</td>\n",
              "      <td>46</td>\n",
              "      <td>1</td>\n",
              "      <td>0</td>\n",
              "      <td>4.000000</td>\n",
              "      <td>2.000000</td>\n",
              "      <td>0</td>\n",
              "      <td>1</td>\n",
              "      <td>0</td>\n",
              "      <td>0</td>\n",
              "      <td>1</td>\n",
              "      <td>100</td>\n",
              "      <td>6</td>\n",
              "      <td>36</td>\n",
              "      <td>2</td>\n",
              "      <td>176.819000</td>\n",
              "      <td>1768.190000</td>\n",
              "      <td>2</td>\n",
              "      <td>1</td>\n",
              "      <td>2</td>\n",
              "      <td>5</td>\n",
              "      <td>0</td>\n",
              "      <td>0</td>\n",
              "      <td>1</td>\n",
              "      <td>0</td>\n",
              "      <td>1</td>\n",
              "      <td>5</td>\n",
              "      <td>0</td>\n",
              "      <td>0</td>\n",
              "      <td>0</td>\n",
              "      <td>1</td>\n",
              "      <td>0</td>\n",
              "      <td>1</td>\n",
              "      <td>0</td>\n",
              "      <td>0</td>\n",
              "      <td>0.925000</td>\n",
              "      <td>2</td>\n",
              "      <td>2</td>\n",
              "      <td>2</td>\n",
              "      <td>1</td>\n",
              "      <td>1</td>\n",
              "      <td>1</td>\n",
              "      <td>1</td>\n",
              "      <td>2</td>\n",
              "      <td>0</td>\n",
              "      <td>9</td>\n",
              "      <td>6</td>\n",
              "      <td>23</td>\n",
              "      <td>9</td>\n",
              "      <td>0</td>\n",
              "      <td>0</td>\n",
              "      <td>2</td>\n",
              "      <td>0</td>\n",
              "      <td>0</td>\n",
              "      <td>0</td>\n",
              "      <td>0</td>\n",
              "      <td>0</td>\n",
              "      <td>0</td>\n",
              "      <td>1</td>\n",
              "      <td>3</td>\n",
              "      <td>0</td>\n",
              "      <td>0</td>\n",
              "      <td>0</td>\n",
              "      <td>0.500000</td>\n",
              "      <td>0.485714</td>\n",
              "      <td>2</td>\n",
              "      <td>2</td>\n",
              "      <td>4</td>\n",
              "      <td>4</td>\n",
              "      <td>2</td>\n",
              "      <td>2</td>\n",
              "      <td>1</td>\n",
              "      <td>0.961452</td>\n",
              "      <td>17.500000</td>\n",
              "      <td>1768.190000</td>\n",
              "      <td>24</td>\n",
              "      <td>0.766667</td>\n",
              "      <td>2</td>\n",
              "      <td>2</td>\n",
              "      <td>4</td>\n",
              "      <td>1</td>\n",
              "      <td>2</td>\n",
              "      <td>4</td>\n",
              "      <td>1</td>\n",
              "      <td>1</td>\n",
              "      <td>0</td>\n",
              "      <td>17.500000</td>\n",
              "      <td>1</td>\n",
              "      <td>1</td>\n",
              "      <td>1</td>\n",
              "      <td>1</td>\n",
              "      <td>0</td>\n",
              "      <td>0</td>\n",
              "      <td>0</td>\n",
              "      <td>0</td>\n",
              "      <td>0</td>\n",
              "      <td>2</td>\n",
              "      <td>2</td>\n",
              "      <td>2</td>\n",
              "      <td>1</td>\n",
              "      <td>1</td>\n",
              "      <td>1</td>\n",
              "      <td>2</td>\n",
              "      <td>2</td>\n",
              "      <td>1</td>\n",
              "      <td>5</td>\n",
              "      <td>1</td>\n",
              "      <td>10</td>\n",
              "      <td>3</td>\n",
              "      <td>1</td>\n",
              "      <td>1</td>\n",
              "      <td>3</td>\n",
              "      <td>3</td>\n",
              "      <td>3</td>\n",
              "      <td>3</td>\n",
              "      <td>1</td>\n",
              "      <td>1</td>\n",
              "      <td>0</td>\n",
              "      <td>0</td>\n",
              "      <td>0</td>\n",
              "      <td>0.100000</td>\n",
              "      <td>10.000000</td>\n",
              "      <td>1.000000</td>\n",
              "      <td>1</td>\n",
              "      <td>1</td>\n",
              "      <td>1</td>\n",
              "      <td>4</td>\n",
              "      <td>16.070677</td>\n",
              "      <td>0</td>\n",
              "      <td>1</td>\n",
              "      <td>1</td>\n",
              "      <td>1</td>\n",
              "      <td>2</td>\n",
              "      <td>2</td>\n",
              "      <td>2</td>\n",
              "      <td>0</td>\n",
              "      <td>0</td>\n",
              "      <td>1</td>\n",
              "      <td>0</td>\n",
              "      <td>0</td>\n",
              "      <td>0</td>\n",
              "      <td>0</td>\n",
              "      <td>0</td>\n",
              "      <td>0</td>\n",
              "      <td>0</td>\n",
              "      <td>0</td>\n",
              "      <td>0</td>\n",
              "      <td>0</td>\n",
              "      <td>1</td>\n",
              "      <td>0</td>\n",
              "      <td>0</td>\n",
              "      <td>0</td>\n",
              "      <td>88.409500</td>\n",
              "      <td>1</td>\n",
              "      <td>0</td>\n",
              "    </tr>\n",
              "    <tr>\n",
              "      <th>5</th>\n",
              "      <td>4</td>\n",
              "      <td>IS</td>\n",
              "      <td>0</td>\n",
              "      <td>52</td>\n",
              "      <td>1</td>\n",
              "      <td>1</td>\n",
              "      <td>884.095000</td>\n",
              "      <td>0</td>\n",
              "      <td>18.019608</td>\n",
              "      <td>17</td>\n",
              "      <td>1</td>\n",
              "      <td>0</td>\n",
              "      <td>4.000000</td>\n",
              "      <td>10.000000</td>\n",
              "      <td>0</td>\n",
              "      <td>1</td>\n",
              "      <td>0</td>\n",
              "      <td>0</td>\n",
              "      <td>1</td>\n",
              "      <td>100</td>\n",
              "      <td>13</td>\n",
              "      <td>169</td>\n",
              "      <td>2</td>\n",
              "      <td>353.638000</td>\n",
              "      <td>884.095000</td>\n",
              "      <td>1</td>\n",
              "      <td>0</td>\n",
              "      <td>1</td>\n",
              "      <td>20</td>\n",
              "      <td>10</td>\n",
              "      <td>0</td>\n",
              "      <td>1</td>\n",
              "      <td>0</td>\n",
              "      <td>1</td>\n",
              "      <td>4</td>\n",
              "      <td>0</td>\n",
              "      <td>0</td>\n",
              "      <td>0</td>\n",
              "      <td>0</td>\n",
              "      <td>1</td>\n",
              "      <td>1</td>\n",
              "      <td>1</td>\n",
              "      <td>0</td>\n",
              "      <td>1.000000</td>\n",
              "      <td>1</td>\n",
              "      <td>1</td>\n",
              "      <td>1</td>\n",
              "      <td>1</td>\n",
              "      <td>1</td>\n",
              "      <td>1</td>\n",
              "      <td>1</td>\n",
              "      <td>2</td>\n",
              "      <td>0</td>\n",
              "      <td>9</td>\n",
              "      <td>7</td>\n",
              "      <td>23</td>\n",
              "      <td>9</td>\n",
              "      <td>0</td>\n",
              "      <td>0</td>\n",
              "      <td>2</td>\n",
              "      <td>0</td>\n",
              "      <td>0</td>\n",
              "      <td>0</td>\n",
              "      <td>0</td>\n",
              "      <td>0</td>\n",
              "      <td>0</td>\n",
              "      <td>1</td>\n",
              "      <td>5</td>\n",
              "      <td>0</td>\n",
              "      <td>3</td>\n",
              "      <td>0</td>\n",
              "      <td>0.300000</td>\n",
              "      <td>0.314286</td>\n",
              "      <td>1</td>\n",
              "      <td>2</td>\n",
              "      <td>1</td>\n",
              "      <td>1</td>\n",
              "      <td>2</td>\n",
              "      <td>2</td>\n",
              "      <td>2</td>\n",
              "      <td>0.487950</td>\n",
              "      <td>12.140000</td>\n",
              "      <td>884.095000</td>\n",
              "      <td>12</td>\n",
              "      <td>0.633333</td>\n",
              "      <td>1</td>\n",
              "      <td>1</td>\n",
              "      <td>1</td>\n",
              "      <td>1</td>\n",
              "      <td>2</td>\n",
              "      <td>1</td>\n",
              "      <td>1</td>\n",
              "      <td>1</td>\n",
              "      <td>0</td>\n",
              "      <td>14.500000</td>\n",
              "      <td>0</td>\n",
              "      <td>0</td>\n",
              "      <td>0</td>\n",
              "      <td>0</td>\n",
              "      <td>0</td>\n",
              "      <td>0</td>\n",
              "      <td>0</td>\n",
              "      <td>0</td>\n",
              "      <td>0</td>\n",
              "      <td>3</td>\n",
              "      <td>2</td>\n",
              "      <td>1</td>\n",
              "      <td>2</td>\n",
              "      <td>2</td>\n",
              "      <td>1</td>\n",
              "      <td>1</td>\n",
              "      <td>2</td>\n",
              "      <td>1</td>\n",
              "      <td>5</td>\n",
              "      <td>1</td>\n",
              "      <td>1</td>\n",
              "      <td>1</td>\n",
              "      <td>3</td>\n",
              "      <td>1</td>\n",
              "      <td>2</td>\n",
              "      <td>1</td>\n",
              "      <td>2</td>\n",
              "      <td>1</td>\n",
              "      <td>3</td>\n",
              "      <td>1</td>\n",
              "      <td>0</td>\n",
              "      <td>0</td>\n",
              "      <td>0</td>\n",
              "      <td>0.400000</td>\n",
              "      <td>2.500000</td>\n",
              "      <td>1.000000</td>\n",
              "      <td>0</td>\n",
              "      <td>1</td>\n",
              "      <td>1</td>\n",
              "      <td>4</td>\n",
              "      <td>9.224966</td>\n",
              "      <td>0</td>\n",
              "      <td>1</td>\n",
              "      <td>2</td>\n",
              "      <td>1</td>\n",
              "      <td>1</td>\n",
              "      <td>1</td>\n",
              "      <td>2</td>\n",
              "      <td>1</td>\n",
              "      <td>0</td>\n",
              "      <td>0</td>\n",
              "      <td>0</td>\n",
              "      <td>0</td>\n",
              "      <td>0</td>\n",
              "      <td>0</td>\n",
              "      <td>0</td>\n",
              "      <td>1</td>\n",
              "      <td>0</td>\n",
              "      <td>0</td>\n",
              "      <td>0</td>\n",
              "      <td>0</td>\n",
              "      <td>0</td>\n",
              "      <td>0</td>\n",
              "      <td>0</td>\n",
              "      <td>0</td>\n",
              "      <td>353.638000</td>\n",
              "      <td>7</td>\n",
              "      <td>2</td>\n",
              "    </tr>\n",
              "    <tr>\n",
              "      <th>6</th>\n",
              "      <td>5</td>\n",
              "      <td>IS</td>\n",
              "      <td>0</td>\n",
              "      <td>31</td>\n",
              "      <td>2</td>\n",
              "      <td>1</td>\n",
              "      <td>9725.045000</td>\n",
              "      <td>0</td>\n",
              "      <td>28.666667</td>\n",
              "      <td>24</td>\n",
              "      <td>0</td>\n",
              "      <td>0</td>\n",
              "      <td>2.000000</td>\n",
              "      <td>10.000000</td>\n",
              "      <td>0</td>\n",
              "      <td>1</td>\n",
              "      <td>0</td>\n",
              "      <td>0</td>\n",
              "      <td>1</td>\n",
              "      <td>100</td>\n",
              "      <td>3</td>\n",
              "      <td>9</td>\n",
              "      <td>2</td>\n",
              "      <td>114.932350</td>\n",
              "      <td>265.228500</td>\n",
              "      <td>2</td>\n",
              "      <td>1</td>\n",
              "      <td>2</td>\n",
              "      <td>5</td>\n",
              "      <td>2</td>\n",
              "      <td>0</td>\n",
              "      <td>1</td>\n",
              "      <td>1</td>\n",
              "      <td>2</td>\n",
              "      <td>4</td>\n",
              "      <td>0</td>\n",
              "      <td>0</td>\n",
              "      <td>0</td>\n",
              "      <td>1</td>\n",
              "      <td>0</td>\n",
              "      <td>0</td>\n",
              "      <td>0</td>\n",
              "      <td>0</td>\n",
              "      <td>0.875000</td>\n",
              "      <td>1</td>\n",
              "      <td>1</td>\n",
              "      <td>2</td>\n",
              "      <td>3</td>\n",
              "      <td>2</td>\n",
              "      <td>2</td>\n",
              "      <td>1</td>\n",
              "      <td>2</td>\n",
              "      <td>0</td>\n",
              "      <td>0</td>\n",
              "      <td>7</td>\n",
              "      <td>15</td>\n",
              "      <td>9</td>\n",
              "      <td>0</td>\n",
              "      <td>0</td>\n",
              "      <td>1</td>\n",
              "      <td>0</td>\n",
              "      <td>0</td>\n",
              "      <td>0</td>\n",
              "      <td>0</td>\n",
              "      <td>0</td>\n",
              "      <td>0</td>\n",
              "      <td>1</td>\n",
              "      <td>4</td>\n",
              "      <td>0</td>\n",
              "      <td>0</td>\n",
              "      <td>2</td>\n",
              "      <td>0.633333</td>\n",
              "      <td>0.600000</td>\n",
              "      <td>4</td>\n",
              "      <td>4</td>\n",
              "      <td>1</td>\n",
              "      <td>2</td>\n",
              "      <td>4</td>\n",
              "      <td>2</td>\n",
              "      <td>4</td>\n",
              "      <td>1.360595</td>\n",
              "      <td>17.020000</td>\n",
              "      <td>884.095000</td>\n",
              "      <td>18</td>\n",
              "      <td>0.766667</td>\n",
              "      <td>1</td>\n",
              "      <td>2</td>\n",
              "      <td>2</td>\n",
              "      <td>1</td>\n",
              "      <td>2</td>\n",
              "      <td>5</td>\n",
              "      <td>1</td>\n",
              "      <td>1</td>\n",
              "      <td>0</td>\n",
              "      <td>21.000000</td>\n",
              "      <td>0</td>\n",
              "      <td>0</td>\n",
              "      <td>0</td>\n",
              "      <td>0</td>\n",
              "      <td>0</td>\n",
              "      <td>1</td>\n",
              "      <td>1</td>\n",
              "      <td>1</td>\n",
              "      <td>0</td>\n",
              "      <td>4</td>\n",
              "      <td>4</td>\n",
              "      <td>5</td>\n",
              "      <td>1</td>\n",
              "      <td>1</td>\n",
              "      <td>1</td>\n",
              "      <td>5</td>\n",
              "      <td>3</td>\n",
              "      <td>1</td>\n",
              "      <td>3</td>\n",
              "      <td>0</td>\n",
              "      <td>5</td>\n",
              "      <td>3</td>\n",
              "      <td>1</td>\n",
              "      <td>1</td>\n",
              "      <td>1</td>\n",
              "      <td>3</td>\n",
              "      <td>3</td>\n",
              "      <td>3</td>\n",
              "      <td>1</td>\n",
              "      <td>1</td>\n",
              "      <td>0</td>\n",
              "      <td>0</td>\n",
              "      <td>0</td>\n",
              "      <td>0.433300</td>\n",
              "      <td>7.692300</td>\n",
              "      <td>3.333300</td>\n",
              "      <td>1</td>\n",
              "      <td>2</td>\n",
              "      <td>2</td>\n",
              "      <td>4</td>\n",
              "      <td>24.320773</td>\n",
              "      <td>0</td>\n",
              "      <td>1</td>\n",
              "      <td>1</td>\n",
              "      <td>1</td>\n",
              "      <td>2</td>\n",
              "      <td>1</td>\n",
              "      <td>2</td>\n",
              "      <td>0</td>\n",
              "      <td>0</td>\n",
              "      <td>0</td>\n",
              "      <td>0</td>\n",
              "      <td>0</td>\n",
              "      <td>0</td>\n",
              "      <td>0</td>\n",
              "      <td>1</td>\n",
              "      <td>0</td>\n",
              "      <td>0</td>\n",
              "      <td>0</td>\n",
              "      <td>0</td>\n",
              "      <td>0</td>\n",
              "      <td>0</td>\n",
              "      <td>0</td>\n",
              "      <td>0</td>\n",
              "      <td>0</td>\n",
              "      <td>8.840950</td>\n",
              "      <td>9</td>\n",
              "      <td>3</td>\n",
              "    </tr>\n",
              "  </tbody>\n",
              "</table>\n",
              "</div>"
            ],
            "text/plain": [
              "   ID Fold  Target  Var4  Var5  Var6        Var7  Var8      Var9  Var10  \\\n",
              "1   1   IS       0    40     3     1 5304.570000     0 18.609524      8   \n",
              "2   2   IS       0    26     4     1  884.095000     0 25.970874     13   \n",
              "4   3   IS       0    30     2     1 3536.380000     0 25.686275     46   \n",
              "5   4   IS       0    52     1     1  884.095000     0 18.019608     17   \n",
              "6   5   IS       0    31     2     1 9725.045000     0 28.666667     24   \n",
              "\n",
              "   Var11  Var12    Var13     Var14  Var15  Var16  Var17  Var18  Var19  Var20  \\\n",
              "1      1      0 1.000000  5.000000      0      0      1      0      5    100   \n",
              "2      1      0 5.000000 15.000000      1      0      0      0      1    100   \n",
              "4      1      0 4.000000  2.000000      0      1      0      0      1    100   \n",
              "5      1      0 4.000000 10.000000      0      1      0      0      1    100   \n",
              "6      0      0 2.000000 10.000000      0      1      0      0      1    100   \n",
              "\n",
              "   Var21  Var22  Var23      Var24       Var25  Var26  Var27  Var28  Var29  \\\n",
              "1      5     25      3 176.819000  530.457000      2      1      2      5   \n",
              "2      3      9      1 442.047500  618.866500      1      0      1      0   \n",
              "4      6     36      2 176.819000 1768.190000      2      1      2      5   \n",
              "5     13    169      2 353.638000  884.095000      1      0      1     20   \n",
              "6      3      9      2 114.932350  265.228500      2      1      2      5   \n",
              "\n",
              "   Var30  Var31  Var32  Var33  Var34  Var35  Var36  Var37  Var38  Var39  \\\n",
              "1      1      0      1      0      3      5      0      0      0      1   \n",
              "2      0      1      4      1      1      4      0      0      0      0   \n",
              "4      0      0      1      0      1      5      0      0      0      1   \n",
              "5     10      0      1      0      1      4      0      0      0      0   \n",
              "6      2      0      1      1      2      4      0      0      0      1   \n",
              "\n",
              "   Var40  Var41  Var42  Var43    Var44  Var45  Var46  Var47  Var48  Var49  \\\n",
              "1      0      0      0      0 0.875000      1      2      2      1      2   \n",
              "2      0      1      0      0 0.725000      2      3      4      2      2   \n",
              "4      0      1      0      0 0.925000      2      2      2      1      1   \n",
              "5      1      1      1      0 1.000000      1      1      1      1      1   \n",
              "6      0      0      0      0 0.875000      1      1      2      3      2   \n",
              "\n",
              "   Var50  Var51  Var52  Var53  Var54  Var55  Var56  Var57  Var58  Var59  \\\n",
              "1      2      2      2      0     12     12     18     12      0      0   \n",
              "2      2      2      1      1     14     22     16     14      0      0   \n",
              "4      1      1      2      0      9      6     23      9      0      0   \n",
              "5      1      1      2      0      9      7     23      9      0      0   \n",
              "6      2      1      2      0      0      7     15      9      0      0   \n",
              "\n",
              "   Var60  Var61  Var62  Var63  Var64  Var65  Var66  Var67  Var68  Var69  \\\n",
              "1      2      0      0      0      0      0      0      1      1      0   \n",
              "2      2      1      1      1      0      0      0      0      2      1   \n",
              "4      2      0      0      0      0      0      0      1      3      0   \n",
              "5      2      0      0      0      0      0      0      1      5      0   \n",
              "6      1      0      0      0      0      0      0      1      4      0   \n",
              "\n",
              "   Var70  Var71    Var72    Var73  Var74  Var75  Var76  Var77  Var78  Var79  \\\n",
              "1      1      1 0.433333 0.428571      2      2      2      2      2      2   \n",
              "2      0      0 0.533333 0.571429      2      2      4      4      2      4   \n",
              "4      0      0 0.500000 0.485714      2      2      4      4      2      2   \n",
              "5      3      0 0.300000 0.314286      1      2      1      1      2      2   \n",
              "6      0      2 0.633333 0.600000      4      4      1      2      4      2   \n",
              "\n",
              "   Var80    Var81     Var82       Var83  Var84    Var85  Var86  Var87  Var88  \\\n",
              "1      3 0.640122  8.740000  884.095000     18 0.666667      2      2      2   \n",
              "2      2 0.980294  8.560000 1768.190000     24 0.533333      4      4      2   \n",
              "4      1 0.961452 17.500000 1768.190000     24 0.766667      2      2      4   \n",
              "5      2 0.487950 12.140000  884.095000     12 0.633333      1      1      1   \n",
              "6      4 1.360595 17.020000  884.095000     18 0.766667      1      2      2   \n",
              "\n",
              "   Var89  Var90  Var91  Var92  Var93  Var94     Var95  Var96  Var97  Var98  \\\n",
              "1      2      2      4      1      1      0 13.500000      0      0      0   \n",
              "2      2      2      4      1      5      1  8.500000      0      1      1   \n",
              "4      1      2      4      1      1      0 17.500000      1      1      1   \n",
              "5      1      2      1      1      1      0 14.500000      0      0      0   \n",
              "6      1      2      5      1      1      0 21.000000      0      0      0   \n",
              "\n",
              "   Var99  Var100  Var101  Var102  Var103  Var104  Var105  Var106  Var107  \\\n",
              "1      0       0       0       0       0       0       6       2       3   \n",
              "2      1       0       0       0       0       0       7       2       4   \n",
              "4      1       0       0       0       0       0       2       2       2   \n",
              "5      0       0       0       0       0       0       3       2       1   \n",
              "6      0       0       1       1       1       0       4       4       5   \n",
              "\n",
              "   Var108  Var109  Var110  Var111  Var112  Var113  Var114  Var115  Var116  \\\n",
              "1       2       2       2       4       4       2       2       0       1   \n",
              "2       2       4       4       4       4       2       0       1       0   \n",
              "4       1       1       1       2       2       1       5       1      10   \n",
              "5       2       2       1       1       2       1       5       1       1   \n",
              "6       1       1       1       5       3       1       3       0       5   \n",
              "\n",
              "   Var117  Var118  Var119  Var120  Var121  Var122  Var123  Var124  Var125  \\\n",
              "1       1       1       1       3       1       3       3       1       3   \n",
              "2       1       2       1       1       3       3       3       3       1   \n",
              "4       3       1       1       3       3       3       3       1       1   \n",
              "5       1       3       1       2       1       2       1       3       1   \n",
              "6       3       1       1       1       3       3       3       1       1   \n",
              "\n",
              "   Var126  Var127  Var128   Var129    Var130   Var131  Var132  Var133  Var134  \\\n",
              "1       0       0       0 0.333300  5.000000 1.666700       0       1       1   \n",
              "2       0       1       0 0.714300  4.000000 2.857100       1       2       2   \n",
              "4       0       0       0 0.100000 10.000000 1.000000       1       1       1   \n",
              "5       0       0       0 0.400000  2.500000 1.000000       0       1       1   \n",
              "6       0       0       0 0.433300  7.692300 3.333300       1       2       2   \n",
              "\n",
              "   Var135    Var136  Var137  Var138  Var139  Var140  Var141  Var142  Var143  \\\n",
              "1       5 11.379807       0       1       1       1       1       1       2   \n",
              "2       5  8.532292       0       1       1       1       2       2       1   \n",
              "4       4 16.070677       0       1       1       1       2       2       2   \n",
              "5       4  9.224966       0       1       2       1       1       1       2   \n",
              "6       4 24.320773       0       1       1       1       2       1       2   \n",
              "\n",
              "   Var144  Var145  Var146  Var147  Var148  Var149  Var150  Var151  Var152  \\\n",
              "1       0       0       0       0       0       0       0       0       1   \n",
              "2       0       1       1       0       0       0       0       0       0   \n",
              "4       0       0       1       0       0       0       0       0       0   \n",
              "5       1       0       0       0       0       0       0       0       1   \n",
              "6       0       0       0       0       0       0       0       1       0   \n",
              "\n",
              "   Var153  Var154  Var155  Var156  Var157  Var158  Var159  Var160     Var161  \\\n",
              "1       0       0       0       0       1       0       0       0  53.045700   \n",
              "2       0       0       0       0       0       0       0       0 884.095000   \n",
              "4       0       0       0       0       1       0       0       0  88.409500   \n",
              "5       0       0       0       0       0       0       0       0 353.638000   \n",
              "6       0       0       0       0       0       0       0       0   8.840950   \n",
              "\n",
              "   Var162  Var163  \n",
              "1       1       6  \n",
              "2       3       5  \n",
              "4       1       0  \n",
              "5       7       2  \n",
              "6       9       3  "
            ]
          },
          "metadata": {
            "tags": []
          },
          "execution_count": 3
        }
      ]
    },
    {
      "cell_type": "code",
      "metadata": {
        "id": "i7Zx186eb9tM"
      },
      "source": [
        "ex2 = ex2.reset_index(drop = True)"
      ],
      "execution_count": null,
      "outputs": []
    },
    {
      "cell_type": "code",
      "metadata": {
        "colab": {
          "base_uri": "https://localhost:8080/"
        },
        "id": "avDpmTptPVdM",
        "outputId": "a9c29d2f-2c2e-4ece-90f4-d1c49d48a337"
      },
      "source": [
        "ex2.shape"
      ],
      "execution_count": null,
      "outputs": [
        {
          "output_type": "execute_result",
          "data": {
            "text/plain": [
              "(13015, 163)"
            ]
          },
          "metadata": {
            "tags": []
          },
          "execution_count": 5
        }
      ]
    },
    {
      "cell_type": "code",
      "metadata": {
        "colab": {
          "base_uri": "https://localhost:8080/"
        },
        "id": "8y4QyfguPbAW",
        "outputId": "7847bb9a-2d3a-450a-d993-ca931c5c853e"
      },
      "source": [
        "ex2.info()"
      ],
      "execution_count": null,
      "outputs": [
        {
          "output_type": "stream",
          "text": [
            "<class 'pandas.core.frame.DataFrame'>\n",
            "RangeIndex: 13015 entries, 0 to 13014\n",
            "Columns: 163 entries, ID to Var163\n",
            "dtypes: float64(19), int64(143), object(1)\n",
            "memory usage: 16.2+ MB\n"
          ],
          "name": "stdout"
        }
      ]
    },
    {
      "cell_type": "code",
      "metadata": {
        "colab": {
          "base_uri": "https://localhost:8080/",
          "height": 204
        },
        "id": "WLUdBPvwWeGw",
        "outputId": "9073c366-a1fd-4906-c7ca-46773c756fcf"
      },
      "source": [
        "ex2_dict.head()"
      ],
      "execution_count": null,
      "outputs": [
        {
          "output_type": "execute_result",
          "data": {
            "text/html": [
              "<div>\n",
              "<style scoped>\n",
              "    .dataframe tbody tr th:only-of-type {\n",
              "        vertical-align: middle;\n",
              "    }\n",
              "\n",
              "    .dataframe tbody tr th {\n",
              "        vertical-align: top;\n",
              "    }\n",
              "\n",
              "    .dataframe thead th {\n",
              "        text-align: right;\n",
              "    }\n",
              "</style>\n",
              "<table border=\"1\" class=\"dataframe\">\n",
              "  <thead>\n",
              "    <tr style=\"text-align: right;\">\n",
              "      <th></th>\n",
              "      <th>Var</th>\n",
              "      <th>Type</th>\n",
              "    </tr>\n",
              "  </thead>\n",
              "  <tbody>\n",
              "    <tr>\n",
              "      <th>0</th>\n",
              "      <td>ID</td>\n",
              "      <td>Id variable</td>\n",
              "    </tr>\n",
              "    <tr>\n",
              "      <th>1</th>\n",
              "      <td>Fold</td>\n",
              "      <td>Fold variable (IS/OS)</td>\n",
              "    </tr>\n",
              "    <tr>\n",
              "      <th>2</th>\n",
              "      <td>Target</td>\n",
              "      <td>Dependent variable (0/1)</td>\n",
              "    </tr>\n",
              "    <tr>\n",
              "      <th>3</th>\n",
              "      <td>Var4</td>\n",
              "      <td>Continuous</td>\n",
              "    </tr>\n",
              "    <tr>\n",
              "      <th>4</th>\n",
              "      <td>Var5</td>\n",
              "      <td>Categorical Ordinal</td>\n",
              "    </tr>\n",
              "  </tbody>\n",
              "</table>\n",
              "</div>"
            ],
            "text/plain": [
              "      Var                      Type\n",
              "0      ID               Id variable\n",
              "1    Fold     Fold variable (IS/OS)\n",
              "2  Target  Dependent variable (0/1)\n",
              "3    Var4                Continuous\n",
              "4    Var5       Categorical Ordinal"
            ]
          },
          "metadata": {
            "tags": []
          },
          "execution_count": 7
        }
      ]
    },
    {
      "cell_type": "markdown",
      "metadata": {
        "id": "-kZabNoE_qU6"
      },
      "source": [
        "# **1. Feature Extraction** "
      ]
    },
    {
      "cell_type": "code",
      "metadata": {
        "id": "mumctcHNYK-R"
      },
      "source": [
        "cat_nom = ex2[ex2_dict[ex2_dict['Type'] == 'Categorical Nominal']['Var'].unique().tolist()]\r\n",
        "cat_ord = ex2[ex2_dict[ex2_dict['Type'] == 'Categorical Ordinal']['Var'].unique().tolist()]\r\n",
        "cont = ex2[ex2_dict[ex2_dict['Type'] == 'Continuous']['Var'].unique().tolist()]\r\n",
        "dummy = ex2[ex2_dict[ex2_dict['Type'] == 'Dummy']['Var'].unique().tolist()]"
      ],
      "execution_count": null,
      "outputs": []
    },
    {
      "cell_type": "code",
      "metadata": {
        "colab": {
          "base_uri": "https://localhost:8080/"
        },
        "id": "imoUq2TTQcLS",
        "outputId": "0cbaa54e-b1d2-4146-cd6d-48cdbc050cd1"
      },
      "source": [
        "print(cat_nom.shape) \r\n",
        "print(cat_ord.shape)\r\n",
        "print(cont.shape)\r\n",
        "print(dummy.shape)"
      ],
      "execution_count": null,
      "outputs": [
        {
          "output_type": "stream",
          "text": [
            "(13015, 9)\n",
            "(13015, 49)\n",
            "(13015, 33)\n",
            "(13015, 69)\n"
          ],
          "name": "stdout"
        }
      ]
    },
    {
      "cell_type": "markdown",
      "metadata": {
        "id": "aWnJd79IeJAF"
      },
      "source": [
        "# **2. Feature Transformation**"
      ]
    },
    {
      "cell_type": "markdown",
      "metadata": {
        "id": "M2lvvWbjJhGL"
      },
      "source": [
        "#### **Feature Transformation for Categorical Ordinal Variables**"
      ]
    },
    {
      "cell_type": "code",
      "metadata": {
        "colab": {
          "base_uri": "https://localhost:8080/"
        },
        "id": "nwB5Uh9Qhk5y",
        "outputId": "4abd5870-de2d-40c2-bfde-320c1da7cfc7"
      },
      "source": [
        "# Instantiate PCA\r\n",
        "pca1 = PCA(n_components=3)\r\n",
        "\r\n",
        "# Applying transformations on the Categorical Ordinal data\r\n",
        "cat_ord1 = pca1.fit_transform(cat_ord)\r\n",
        "print(pca1.explained_variance_ratio_)"
      ],
      "execution_count": null,
      "outputs": [
        {
          "output_type": "stream",
          "text": [
            "[0.50222944 0.22917712 0.12173662]\n"
          ],
          "name": "stdout"
        }
      ]
    },
    {
      "cell_type": "code",
      "metadata": {
        "colab": {
          "base_uri": "https://localhost:8080/",
          "height": 204
        },
        "id": "BVQddN-rjV0b",
        "outputId": "67767a2a-b861-4bc8-e17c-0df9034eee35"
      },
      "source": [
        "cat_ord1_df = pd.DataFrame(data=cat_ord1, columns = ['VarA1', 'VarA2', 'VarA3'])\r\n",
        "cat_ord1_df.head()"
      ],
      "execution_count": null,
      "outputs": [
        {
          "output_type": "execute_result",
          "data": {
            "text/html": [
              "<div>\n",
              "<style scoped>\n",
              "    .dataframe tbody tr th:only-of-type {\n",
              "        vertical-align: middle;\n",
              "    }\n",
              "\n",
              "    .dataframe tbody tr th {\n",
              "        vertical-align: top;\n",
              "    }\n",
              "\n",
              "    .dataframe thead th {\n",
              "        text-align: right;\n",
              "    }\n",
              "</style>\n",
              "<table border=\"1\" class=\"dataframe\">\n",
              "  <thead>\n",
              "    <tr style=\"text-align: right;\">\n",
              "      <th></th>\n",
              "      <th>VarA1</th>\n",
              "      <th>VarA2</th>\n",
              "      <th>VarA3</th>\n",
              "    </tr>\n",
              "  </thead>\n",
              "  <tbody>\n",
              "    <tr>\n",
              "      <th>0</th>\n",
              "      <td>-4.354556</td>\n",
              "      <td>2.845304</td>\n",
              "      <td>-2.209473</td>\n",
              "    </tr>\n",
              "    <tr>\n",
              "      <th>1</th>\n",
              "      <td>-8.205112</td>\n",
              "      <td>0.207556</td>\n",
              "      <td>0.033722</td>\n",
              "    </tr>\n",
              "    <tr>\n",
              "      <th>2</th>\n",
              "      <td>1.122771</td>\n",
              "      <td>-3.978928</td>\n",
              "      <td>-4.533133</td>\n",
              "    </tr>\n",
              "    <tr>\n",
              "      <th>3</th>\n",
              "      <td>8.329499</td>\n",
              "      <td>14.833848</td>\n",
              "      <td>-3.650035</td>\n",
              "    </tr>\n",
              "    <tr>\n",
              "      <th>4</th>\n",
              "      <td>-1.170211</td>\n",
              "      <td>0.176048</td>\n",
              "      <td>-2.101757</td>\n",
              "    </tr>\n",
              "  </tbody>\n",
              "</table>\n",
              "</div>"
            ],
            "text/plain": [
              "      VarA1     VarA2     VarA3\n",
              "0 -4.354556  2.845304 -2.209473\n",
              "1 -8.205112  0.207556  0.033722\n",
              "2  1.122771 -3.978928 -4.533133\n",
              "3  8.329499 14.833848 -3.650035\n",
              "4 -1.170211  0.176048 -2.101757"
            ]
          },
          "metadata": {
            "tags": []
          },
          "execution_count": 11
        }
      ]
    },
    {
      "cell_type": "markdown",
      "metadata": {
        "id": "KTJM-uX4JLlq"
      },
      "source": [
        "#### **Feature Transformation for Categorical Nominal Variables**"
      ]
    },
    {
      "cell_type": "code",
      "metadata": {
        "colab": {
          "base_uri": "https://localhost:8080/"
        },
        "id": "JyajiZdLe1N2",
        "outputId": "b35134a9-611d-4e99-bcc3-812dae78dd5e"
      },
      "source": [
        "# Instantiate PCA\r\n",
        "pca2 = PCA(n_components=3)\r\n",
        "\r\n",
        "# Applying transformations on the Categorical Nominal data\r\n",
        "cat_nom1 = pca2.fit_transform(cat_nom)\r\n",
        "print(pca2.explained_variance_ratio_)"
      ],
      "execution_count": null,
      "outputs": [
        {
          "output_type": "stream",
          "text": [
            "[0.59826705 0.12704665 0.10823644]\n"
          ],
          "name": "stdout"
        }
      ]
    },
    {
      "cell_type": "code",
      "metadata": {
        "colab": {
          "base_uri": "https://localhost:8080/",
          "height": 204
        },
        "id": "vEIQ9CZyk8Tg",
        "outputId": "f19e1f0d-a815-432f-c3cf-20c619bbc74e"
      },
      "source": [
        "cat_nom1_df = pd.DataFrame(data=cat_nom1, columns = ['VarB1', 'VarB2', 'VarB3'])\r\n",
        "cat_nom1_df.head()"
      ],
      "execution_count": null,
      "outputs": [
        {
          "output_type": "execute_result",
          "data": {
            "text/html": [
              "<div>\n",
              "<style scoped>\n",
              "    .dataframe tbody tr th:only-of-type {\n",
              "        vertical-align: middle;\n",
              "    }\n",
              "\n",
              "    .dataframe tbody tr th {\n",
              "        vertical-align: top;\n",
              "    }\n",
              "\n",
              "    .dataframe thead th {\n",
              "        text-align: right;\n",
              "    }\n",
              "</style>\n",
              "<table border=\"1\" class=\"dataframe\">\n",
              "  <thead>\n",
              "    <tr style=\"text-align: right;\">\n",
              "      <th></th>\n",
              "      <th>VarB1</th>\n",
              "      <th>VarB2</th>\n",
              "      <th>VarB3</th>\n",
              "    </tr>\n",
              "  </thead>\n",
              "  <tbody>\n",
              "    <tr>\n",
              "      <th>0</th>\n",
              "      <td>-1.769098</td>\n",
              "      <td>0.668456</td>\n",
              "      <td>-1.295865</td>\n",
              "    </tr>\n",
              "    <tr>\n",
              "      <th>1</th>\n",
              "      <td>0.439503</td>\n",
              "      <td>1.023401</td>\n",
              "      <td>0.488861</td>\n",
              "    </tr>\n",
              "    <tr>\n",
              "      <th>2</th>\n",
              "      <td>-1.790309</td>\n",
              "      <td>-0.927075</td>\n",
              "      <td>-0.057367</td>\n",
              "    </tr>\n",
              "    <tr>\n",
              "      <th>3</th>\n",
              "      <td>4.202114</td>\n",
              "      <td>-2.736019</td>\n",
              "      <td>0.997539</td>\n",
              "    </tr>\n",
              "    <tr>\n",
              "      <th>4</th>\n",
              "      <td>6.255204</td>\n",
              "      <td>-1.073135</td>\n",
              "      <td>1.384546</td>\n",
              "    </tr>\n",
              "  </tbody>\n",
              "</table>\n",
              "</div>"
            ],
            "text/plain": [
              "      VarB1     VarB2     VarB3\n",
              "0 -1.769098  0.668456 -1.295865\n",
              "1  0.439503  1.023401  0.488861\n",
              "2 -1.790309 -0.927075 -0.057367\n",
              "3  4.202114 -2.736019  0.997539\n",
              "4  6.255204 -1.073135  1.384546"
            ]
          },
          "metadata": {
            "tags": []
          },
          "execution_count": 13
        }
      ]
    },
    {
      "cell_type": "markdown",
      "metadata": {
        "id": "cNB8nQFpJlbL"
      },
      "source": [
        "#### **Feature Transformation for Dummy Variables**"
      ]
    },
    {
      "cell_type": "code",
      "metadata": {
        "colab": {
          "base_uri": "https://localhost:8080/"
        },
        "id": "io3DJjcHhtiA",
        "outputId": "fb19f75e-64c1-4e2c-a2cf-fe4396d5be83"
      },
      "source": [
        "# Instantiate PCA\r\n",
        "pca3 = PCA(n_components=2)\r\n",
        "\r\n",
        "# Applying transformations on the Dummy data\r\n",
        "dummy1 = pca3.fit_transform(dummy)\r\n",
        "print(pca3.explained_variance_ratio_)"
      ],
      "execution_count": null,
      "outputs": [
        {
          "output_type": "stream",
          "text": [
            "[0.11093609 0.07309569]\n"
          ],
          "name": "stdout"
        }
      ]
    },
    {
      "cell_type": "code",
      "metadata": {
        "colab": {
          "base_uri": "https://localhost:8080/",
          "height": 204
        },
        "id": "UJUMR_WanSms",
        "outputId": "11144227-90be-4fe0-a127-f861b382ba27"
      },
      "source": [
        "dummy1_df = pd.DataFrame(data=dummy1, columns = ['VarC1', 'VarC2'])\r\n",
        "dummy1_df.head()"
      ],
      "execution_count": null,
      "outputs": [
        {
          "output_type": "execute_result",
          "data": {
            "text/html": [
              "<div>\n",
              "<style scoped>\n",
              "    .dataframe tbody tr th:only-of-type {\n",
              "        vertical-align: middle;\n",
              "    }\n",
              "\n",
              "    .dataframe tbody tr th {\n",
              "        vertical-align: top;\n",
              "    }\n",
              "\n",
              "    .dataframe thead th {\n",
              "        text-align: right;\n",
              "    }\n",
              "</style>\n",
              "<table border=\"1\" class=\"dataframe\">\n",
              "  <thead>\n",
              "    <tr style=\"text-align: right;\">\n",
              "      <th></th>\n",
              "      <th>VarC1</th>\n",
              "      <th>VarC2</th>\n",
              "    </tr>\n",
              "  </thead>\n",
              "  <tbody>\n",
              "    <tr>\n",
              "      <th>0</th>\n",
              "      <td>-0.587781</td>\n",
              "      <td>0.659192</td>\n",
              "    </tr>\n",
              "    <tr>\n",
              "      <th>1</th>\n",
              "      <td>0.407073</td>\n",
              "      <td>0.192413</td>\n",
              "    </tr>\n",
              "    <tr>\n",
              "      <th>2</th>\n",
              "      <td>0.847022</td>\n",
              "      <td>-0.492382</td>\n",
              "    </tr>\n",
              "    <tr>\n",
              "      <th>3</th>\n",
              "      <td>-0.653610</td>\n",
              "      <td>-0.275047</td>\n",
              "    </tr>\n",
              "    <tr>\n",
              "      <th>4</th>\n",
              "      <td>0.807966</td>\n",
              "      <td>-0.827490</td>\n",
              "    </tr>\n",
              "  </tbody>\n",
              "</table>\n",
              "</div>"
            ],
            "text/plain": [
              "      VarC1     VarC2\n",
              "0 -0.587781  0.659192\n",
              "1  0.407073  0.192413\n",
              "2  0.847022 -0.492382\n",
              "3 -0.653610 -0.275047\n",
              "4  0.807966 -0.827490"
            ]
          },
          "metadata": {
            "tags": []
          },
          "execution_count": 15
        }
      ]
    },
    {
      "cell_type": "markdown",
      "metadata": {
        "id": "IFk0j6xOn2Oz"
      },
      "source": [
        "#### **Feature Transformation for Continuous Variables**"
      ]
    },
    {
      "cell_type": "code",
      "metadata": {
        "id": "HXZLxyWcn_u8"
      },
      "source": [
        "cont_int = cont.select_dtypes(exclude = ['float64'])\r\n",
        "cont_float = cont.select_dtypes(exclude = ['int64'])"
      ],
      "execution_count": null,
      "outputs": []
    },
    {
      "cell_type": "code",
      "metadata": {
        "colab": {
          "base_uri": "https://localhost:8080/"
        },
        "id": "QydcD2mxqBAR",
        "outputId": "464e8368-ade0-4a47-e40e-65d41bf1573e"
      },
      "source": [
        "cont_int.shape, cont_float.shape"
      ],
      "execution_count": null,
      "outputs": [
        {
          "output_type": "execute_result",
          "data": {
            "text/plain": [
              "((13015, 14), (13015, 19))"
            ]
          },
          "metadata": {
            "tags": []
          },
          "execution_count": 17
        }
      ]
    },
    {
      "cell_type": "markdown",
      "metadata": {
        "id": "2Q6dEKX-f2gt"
      },
      "source": [
        "In a normal distribution the **Mean = Median = Mode**. I have tried to substitute the mode for the 95th percentile but it seems redundant. So I shall do a visual check to ensure that difference between the mean and the median (50%) is not significant **(significance here means that the difference is greater than 1)**."
      ]
    },
    {
      "cell_type": "code",
      "metadata": {
        "colab": {
          "base_uri": "https://localhost:8080/",
          "height": 317
        },
        "id": "yzKmzaHfr4XH",
        "outputId": "98f55afd-f23b-4a5e-bb52-e33a6fd6945e"
      },
      "source": [
        "perc = [0.9, 0.95]\r\n",
        "cont_float.describe(percentiles = perc)"
      ],
      "execution_count": null,
      "outputs": [
        {
          "output_type": "execute_result",
          "data": {
            "text/html": [
              "<div>\n",
              "<style scoped>\n",
              "    .dataframe tbody tr th:only-of-type {\n",
              "        vertical-align: middle;\n",
              "    }\n",
              "\n",
              "    .dataframe tbody tr th {\n",
              "        vertical-align: top;\n",
              "    }\n",
              "\n",
              "    .dataframe thead th {\n",
              "        text-align: right;\n",
              "    }\n",
              "</style>\n",
              "<table border=\"1\" class=\"dataframe\">\n",
              "  <thead>\n",
              "    <tr style=\"text-align: right;\">\n",
              "      <th></th>\n",
              "      <th>Var7</th>\n",
              "      <th>Var9</th>\n",
              "      <th>Var13</th>\n",
              "      <th>Var14</th>\n",
              "      <th>Var24</th>\n",
              "      <th>Var25</th>\n",
              "      <th>Var44</th>\n",
              "      <th>Var72</th>\n",
              "      <th>Var73</th>\n",
              "      <th>Var81</th>\n",
              "      <th>Var82</th>\n",
              "      <th>Var83</th>\n",
              "      <th>Var85</th>\n",
              "      <th>Var95</th>\n",
              "      <th>Var129</th>\n",
              "      <th>Var130</th>\n",
              "      <th>Var131</th>\n",
              "      <th>Var136</th>\n",
              "      <th>Var161</th>\n",
              "    </tr>\n",
              "  </thead>\n",
              "  <tbody>\n",
              "    <tr>\n",
              "      <th>count</th>\n",
              "      <td>13015.000000</td>\n",
              "      <td>13015.000000</td>\n",
              "      <td>13015.000000</td>\n",
              "      <td>13015.000000</td>\n",
              "      <td>13015.000000</td>\n",
              "      <td>13015.000000</td>\n",
              "      <td>13015.000000</td>\n",
              "      <td>13015.000000</td>\n",
              "      <td>13015.000000</td>\n",
              "      <td>13015.000000</td>\n",
              "      <td>13015.000000</td>\n",
              "      <td>13015.000000</td>\n",
              "      <td>13015.000000</td>\n",
              "      <td>13015.000000</td>\n",
              "      <td>13015.000000</td>\n",
              "      <td>13015.000000</td>\n",
              "      <td>13015.000000</td>\n",
              "      <td>13015.000000</td>\n",
              "      <td>13015.000000</td>\n",
              "    </tr>\n",
              "    <tr>\n",
              "      <th>mean</th>\n",
              "      <td>1711.539762</td>\n",
              "      <td>15.369281</td>\n",
              "      <td>10.328467</td>\n",
              "      <td>26.429985</td>\n",
              "      <td>304.430673</td>\n",
              "      <td>999.428491</td>\n",
              "      <td>0.839539</td>\n",
              "      <td>0.572227</td>\n",
              "      <td>0.567064</td>\n",
              "      <td>1.038363</td>\n",
              "      <td>13.483235</td>\n",
              "      <td>1200.946165</td>\n",
              "      <td>0.711149</td>\n",
              "      <td>10.426316</td>\n",
              "      <td>0.493732</td>\n",
              "      <td>5.600393</td>\n",
              "      <td>2.415435</td>\n",
              "      <td>12.679066</td>\n",
              "      <td>108.306706</td>\n",
              "    </tr>\n",
              "    <tr>\n",
              "      <th>std</th>\n",
              "      <td>3564.157915</td>\n",
              "      <td>5.217711</td>\n",
              "      <td>6.240978</td>\n",
              "      <td>13.555245</td>\n",
              "      <td>233.527497</td>\n",
              "      <td>1210.003758</td>\n",
              "      <td>0.083585</td>\n",
              "      <td>0.137308</td>\n",
              "      <td>0.136853</td>\n",
              "      <td>0.289380</td>\n",
              "      <td>6.566370</td>\n",
              "      <td>629.623226</td>\n",
              "      <td>0.094874</td>\n",
              "      <td>5.798972</td>\n",
              "      <td>0.348556</td>\n",
              "      <td>4.858148</td>\n",
              "      <td>2.290024</td>\n",
              "      <td>9.518014</td>\n",
              "      <td>253.951448</td>\n",
              "    </tr>\n",
              "    <tr>\n",
              "      <th>min</th>\n",
              "      <td>22.092093</td>\n",
              "      <td>5.448458</td>\n",
              "      <td>1.000000</td>\n",
              "      <td>1.000000</td>\n",
              "      <td>29.731200</td>\n",
              "      <td>61.676400</td>\n",
              "      <td>0.628571</td>\n",
              "      <td>0.300000</td>\n",
              "      <td>0.314286</td>\n",
              "      <td>0.487950</td>\n",
              "      <td>2.250000</td>\n",
              "      <td>786.225000</td>\n",
              "      <td>0.500000</td>\n",
              "      <td>2.000000</td>\n",
              "      <td>0.033300</td>\n",
              "      <td>1.000000</td>\n",
              "      <td>0.200000</td>\n",
              "      <td>0.632456</td>\n",
              "      <td>0.764254</td>\n",
              "    </tr>\n",
              "    <tr>\n",
              "      <th>50%</th>\n",
              "      <td>644.556000</td>\n",
              "      <td>14.932039</td>\n",
              "      <td>9.000000</td>\n",
              "      <td>25.000000</td>\n",
              "      <td>245.344500</td>\n",
              "      <td>625.520000</td>\n",
              "      <td>0.825000</td>\n",
              "      <td>0.566667</td>\n",
              "      <td>0.542857</td>\n",
              "      <td>1.012122</td>\n",
              "      <td>12.620000</td>\n",
              "      <td>943.512000</td>\n",
              "      <td>0.700000</td>\n",
              "      <td>9.500000</td>\n",
              "      <td>0.400000</td>\n",
              "      <td>4.166700</td>\n",
              "      <td>1.666700</td>\n",
              "      <td>10.290773</td>\n",
              "      <td>32.076400</td>\n",
              "    </tr>\n",
              "    <tr>\n",
              "      <th>90%</th>\n",
              "      <td>3313.052000</td>\n",
              "      <td>21.941728</td>\n",
              "      <td>19.000000</td>\n",
              "      <td>45.000000</td>\n",
              "      <td>502.951200</td>\n",
              "      <td>2122.172000</td>\n",
              "      <td>0.971429</td>\n",
              "      <td>0.766667</td>\n",
              "      <td>0.771429</td>\n",
              "      <td>1.423154</td>\n",
              "      <td>21.875000</td>\n",
              "      <td>1664.460000</td>\n",
              "      <td>0.833333</td>\n",
              "      <td>18.000000</td>\n",
              "      <td>1.000000</td>\n",
              "      <td>10.000000</td>\n",
              "      <td>5.000000</td>\n",
              "      <td>24.602845</td>\n",
              "      <td>276.312560</td>\n",
              "    </tr>\n",
              "    <tr>\n",
              "      <th>95%</th>\n",
              "      <td>6537.848000</td>\n",
              "      <td>24.369921</td>\n",
              "      <td>22.000000</td>\n",
              "      <td>50.000000</td>\n",
              "      <td>684.542800</td>\n",
              "      <td>3228.142000</td>\n",
              "      <td>1.000000</td>\n",
              "      <td>0.800000</td>\n",
              "      <td>0.800000</td>\n",
              "      <td>1.566781</td>\n",
              "      <td>25.919540</td>\n",
              "      <td>2369.520000</td>\n",
              "      <td>0.866667</td>\n",
              "      <td>22.000000</td>\n",
              "      <td>1.000000</td>\n",
              "      <td>13.333300</td>\n",
              "      <td>6.250000</td>\n",
              "      <td>32.106228</td>\n",
              "      <td>479.233500</td>\n",
              "    </tr>\n",
              "    <tr>\n",
              "      <th>max</th>\n",
              "      <td>23135.055000</td>\n",
              "      <td>43.768319</td>\n",
              "      <td>35.000000</td>\n",
              "      <td>70.000000</td>\n",
              "      <td>1662.166600</td>\n",
              "      <td>7862.250000</td>\n",
              "      <td>1.000000</td>\n",
              "      <td>0.933333</td>\n",
              "      <td>0.942857</td>\n",
              "      <td>1.866936</td>\n",
              "      <td>35.125000</td>\n",
              "      <td>7686.200000</td>\n",
              "      <td>0.966667</td>\n",
              "      <td>28.000000</td>\n",
              "      <td>2.000000</td>\n",
              "      <td>37.500000</td>\n",
              "      <td>16.666700</td>\n",
              "      <td>48.759560</td>\n",
              "      <td>2919.220000</td>\n",
              "    </tr>\n",
              "  </tbody>\n",
              "</table>\n",
              "</div>"
            ],
            "text/plain": [
              "              Var7         Var9        Var13        Var14        Var24  \\\n",
              "count 13015.000000 13015.000000 13015.000000 13015.000000 13015.000000   \n",
              "mean   1711.539762    15.369281    10.328467    26.429985   304.430673   \n",
              "std    3564.157915     5.217711     6.240978    13.555245   233.527497   \n",
              "min      22.092093     5.448458     1.000000     1.000000    29.731200   \n",
              "50%     644.556000    14.932039     9.000000    25.000000   245.344500   \n",
              "90%    3313.052000    21.941728    19.000000    45.000000   502.951200   \n",
              "95%    6537.848000    24.369921    22.000000    50.000000   684.542800   \n",
              "max   23135.055000    43.768319    35.000000    70.000000  1662.166600   \n",
              "\n",
              "             Var25        Var44        Var72        Var73        Var81  \\\n",
              "count 13015.000000 13015.000000 13015.000000 13015.000000 13015.000000   \n",
              "mean    999.428491     0.839539     0.572227     0.567064     1.038363   \n",
              "std    1210.003758     0.083585     0.137308     0.136853     0.289380   \n",
              "min      61.676400     0.628571     0.300000     0.314286     0.487950   \n",
              "50%     625.520000     0.825000     0.566667     0.542857     1.012122   \n",
              "90%    2122.172000     0.971429     0.766667     0.771429     1.423154   \n",
              "95%    3228.142000     1.000000     0.800000     0.800000     1.566781   \n",
              "max    7862.250000     1.000000     0.933333     0.942857     1.866936   \n",
              "\n",
              "             Var82        Var83        Var85        Var95       Var129  \\\n",
              "count 13015.000000 13015.000000 13015.000000 13015.000000 13015.000000   \n",
              "mean     13.483235  1200.946165     0.711149    10.426316     0.493732   \n",
              "std       6.566370   629.623226     0.094874     5.798972     0.348556   \n",
              "min       2.250000   786.225000     0.500000     2.000000     0.033300   \n",
              "50%      12.620000   943.512000     0.700000     9.500000     0.400000   \n",
              "90%      21.875000  1664.460000     0.833333    18.000000     1.000000   \n",
              "95%      25.919540  2369.520000     0.866667    22.000000     1.000000   \n",
              "max      35.125000  7686.200000     0.966667    28.000000     2.000000   \n",
              "\n",
              "            Var130       Var131       Var136       Var161  \n",
              "count 13015.000000 13015.000000 13015.000000 13015.000000  \n",
              "mean      5.600393     2.415435    12.679066   108.306706  \n",
              "std       4.858148     2.290024     9.518014   253.951448  \n",
              "min       1.000000     0.200000     0.632456     0.764254  \n",
              "50%       4.166700     1.666700    10.290773    32.076400  \n",
              "90%      10.000000     5.000000    24.602845   276.312560  \n",
              "95%      13.333300     6.250000    32.106228   479.233500  \n",
              "max      37.500000    16.666700    48.759560  2919.220000  "
            ]
          },
          "metadata": {
            "tags": []
          },
          "execution_count": 18
        }
      ]
    },
    {
      "cell_type": "code",
      "metadata": {
        "colab": {
          "base_uri": "https://localhost:8080/",
          "height": 317
        },
        "id": "88NeUC9Iys6e",
        "outputId": "4d7e0995-5d13-40d5-8a96-82c7bc8ac28f"
      },
      "source": [
        "cont_int.describe(percentiles = perc)"
      ],
      "execution_count": null,
      "outputs": [
        {
          "output_type": "execute_result",
          "data": {
            "text/html": [
              "<div>\n",
              "<style scoped>\n",
              "    .dataframe tbody tr th:only-of-type {\n",
              "        vertical-align: middle;\n",
              "    }\n",
              "\n",
              "    .dataframe tbody tr th {\n",
              "        vertical-align: top;\n",
              "    }\n",
              "\n",
              "    .dataframe thead th {\n",
              "        text-align: right;\n",
              "    }\n",
              "</style>\n",
              "<table border=\"1\" class=\"dataframe\">\n",
              "  <thead>\n",
              "    <tr style=\"text-align: right;\">\n",
              "      <th></th>\n",
              "      <th>Var4</th>\n",
              "      <th>Var10</th>\n",
              "      <th>Var20</th>\n",
              "      <th>Var21</th>\n",
              "      <th>Var22</th>\n",
              "      <th>Var28</th>\n",
              "      <th>Var35</th>\n",
              "      <th>Var54</th>\n",
              "      <th>Var55</th>\n",
              "      <th>Var56</th>\n",
              "      <th>Var57</th>\n",
              "      <th>Var84</th>\n",
              "      <th>Var114</th>\n",
              "      <th>Var163</th>\n",
              "    </tr>\n",
              "  </thead>\n",
              "  <tbody>\n",
              "    <tr>\n",
              "      <th>count</th>\n",
              "      <td>13015.000000</td>\n",
              "      <td>13015.000000</td>\n",
              "      <td>13015.000000</td>\n",
              "      <td>13015.000000</td>\n",
              "      <td>13015.000000</td>\n",
              "      <td>13015.000000</td>\n",
              "      <td>13015.000000</td>\n",
              "      <td>13015.000000</td>\n",
              "      <td>13015.000000</td>\n",
              "      <td>13015.000000</td>\n",
              "      <td>13015.000000</td>\n",
              "      <td>13015.000000</td>\n",
              "      <td>13015.000000</td>\n",
              "      <td>13015.000000</td>\n",
              "    </tr>\n",
              "    <tr>\n",
              "      <th>mean</th>\n",
              "      <td>38.432885</td>\n",
              "      <td>9.961583</td>\n",
              "      <td>100.000000</td>\n",
              "      <td>9.137841</td>\n",
              "      <td>125.220054</td>\n",
              "      <td>1.201921</td>\n",
              "      <td>5.174107</td>\n",
              "      <td>3.659009</td>\n",
              "      <td>9.868152</td>\n",
              "      <td>17.135690</td>\n",
              "      <td>7.712409</td>\n",
              "      <td>23.156819</td>\n",
              "      <td>3.022359</td>\n",
              "      <td>4.474453</td>\n",
              "    </tr>\n",
              "    <tr>\n",
              "      <th>std</th>\n",
              "      <td>7.625791</td>\n",
              "      <td>9.568189</td>\n",
              "      <td>0.000000</td>\n",
              "      <td>6.459344</td>\n",
              "      <td>183.094623</td>\n",
              "      <td>0.458795</td>\n",
              "      <td>2.042003</td>\n",
              "      <td>4.863961</td>\n",
              "      <td>4.362491</td>\n",
              "      <td>6.323537</td>\n",
              "      <td>3.417051</td>\n",
              "      <td>2.758015</td>\n",
              "      <td>1.812870</td>\n",
              "      <td>1.938014</td>\n",
              "    </tr>\n",
              "    <tr>\n",
              "      <th>min</th>\n",
              "      <td>22.000000</td>\n",
              "      <td>1.000000</td>\n",
              "      <td>100.000000</td>\n",
              "      <td>2.000000</td>\n",
              "      <td>4.000000</td>\n",
              "      <td>1.000000</td>\n",
              "      <td>0.000000</td>\n",
              "      <td>0.000000</td>\n",
              "      <td>1.000000</td>\n",
              "      <td>2.000000</td>\n",
              "      <td>0.000000</td>\n",
              "      <td>12.000000</td>\n",
              "      <td>0.000000</td>\n",
              "      <td>0.000000</td>\n",
              "    </tr>\n",
              "    <tr>\n",
              "      <th>50%</th>\n",
              "      <td>39.000000</td>\n",
              "      <td>7.000000</td>\n",
              "      <td>100.000000</td>\n",
              "      <td>7.000000</td>\n",
              "      <td>49.000000</td>\n",
              "      <td>1.000000</td>\n",
              "      <td>5.000000</td>\n",
              "      <td>0.000000</td>\n",
              "      <td>9.000000</td>\n",
              "      <td>19.000000</td>\n",
              "      <td>8.000000</td>\n",
              "      <td>24.000000</td>\n",
              "      <td>3.000000</td>\n",
              "      <td>5.000000</td>\n",
              "    </tr>\n",
              "    <tr>\n",
              "      <th>90%</th>\n",
              "      <td>49.000000</td>\n",
              "      <td>22.000000</td>\n",
              "      <td>100.000000</td>\n",
              "      <td>20.000000</td>\n",
              "      <td>400.000000</td>\n",
              "      <td>2.000000</td>\n",
              "      <td>8.000000</td>\n",
              "      <td>11.000000</td>\n",
              "      <td>16.000000</td>\n",
              "      <td>23.000000</td>\n",
              "      <td>11.000000</td>\n",
              "      <td>24.000000</td>\n",
              "      <td>6.000000</td>\n",
              "      <td>7.000000</td>\n",
              "    </tr>\n",
              "    <tr>\n",
              "      <th>95%</th>\n",
              "      <td>51.000000</td>\n",
              "      <td>29.000000</td>\n",
              "      <td>100.000000</td>\n",
              "      <td>23.000000</td>\n",
              "      <td>529.000000</td>\n",
              "      <td>2.000000</td>\n",
              "      <td>8.000000</td>\n",
              "      <td>14.000000</td>\n",
              "      <td>17.000000</td>\n",
              "      <td>23.000000</td>\n",
              "      <td>12.000000</td>\n",
              "      <td>24.000000</td>\n",
              "      <td>7.000000</td>\n",
              "      <td>7.000000</td>\n",
              "    </tr>\n",
              "    <tr>\n",
              "      <th>max</th>\n",
              "      <td>55.000000</td>\n",
              "      <td>50.000000</td>\n",
              "      <td>100.000000</td>\n",
              "      <td>30.000000</td>\n",
              "      <td>900.000000</td>\n",
              "      <td>3.000000</td>\n",
              "      <td>11.000000</td>\n",
              "      <td>17.000000</td>\n",
              "      <td>22.000000</td>\n",
              "      <td>23.000000</td>\n",
              "      <td>14.000000</td>\n",
              "      <td>36.000000</td>\n",
              "      <td>8.000000</td>\n",
              "      <td>10.000000</td>\n",
              "    </tr>\n",
              "  </tbody>\n",
              "</table>\n",
              "</div>"
            ],
            "text/plain": [
              "              Var4        Var10        Var20        Var21        Var22  \\\n",
              "count 13015.000000 13015.000000 13015.000000 13015.000000 13015.000000   \n",
              "mean     38.432885     9.961583   100.000000     9.137841   125.220054   \n",
              "std       7.625791     9.568189     0.000000     6.459344   183.094623   \n",
              "min      22.000000     1.000000   100.000000     2.000000     4.000000   \n",
              "50%      39.000000     7.000000   100.000000     7.000000    49.000000   \n",
              "90%      49.000000    22.000000   100.000000    20.000000   400.000000   \n",
              "95%      51.000000    29.000000   100.000000    23.000000   529.000000   \n",
              "max      55.000000    50.000000   100.000000    30.000000   900.000000   \n",
              "\n",
              "             Var28        Var35        Var54        Var55        Var56  \\\n",
              "count 13015.000000 13015.000000 13015.000000 13015.000000 13015.000000   \n",
              "mean      1.201921     5.174107     3.659009     9.868152    17.135690   \n",
              "std       0.458795     2.042003     4.863961     4.362491     6.323537   \n",
              "min       1.000000     0.000000     0.000000     1.000000     2.000000   \n",
              "50%       1.000000     5.000000     0.000000     9.000000    19.000000   \n",
              "90%       2.000000     8.000000    11.000000    16.000000    23.000000   \n",
              "95%       2.000000     8.000000    14.000000    17.000000    23.000000   \n",
              "max       3.000000    11.000000    17.000000    22.000000    23.000000   \n",
              "\n",
              "             Var57        Var84       Var114       Var163  \n",
              "count 13015.000000 13015.000000 13015.000000 13015.000000  \n",
              "mean      7.712409    23.156819     3.022359     4.474453  \n",
              "std       3.417051     2.758015     1.812870     1.938014  \n",
              "min       0.000000    12.000000     0.000000     0.000000  \n",
              "50%       8.000000    24.000000     3.000000     5.000000  \n",
              "90%      11.000000    24.000000     6.000000     7.000000  \n",
              "95%      12.000000    24.000000     7.000000     7.000000  \n",
              "max      14.000000    36.000000     8.000000    10.000000  "
            ]
          },
          "metadata": {
            "tags": []
          },
          "execution_count": 19
        }
      ]
    },
    {
      "cell_type": "code",
      "metadata": {
        "colab": {
          "base_uri": "https://localhost:8080/"
        },
        "id": "WqWws9bdjZp8",
        "outputId": "8668487a-3a49-49c5-dc1d-2ac3be393df5"
      },
      "source": [
        "# Find columns that follow a non-normal distribution\r\n",
        "\r\n",
        "for col in cont_float[cont_float.columns]:\r\n",
        "  if (cont_float[col].mean(axis = 0) - cont_float[col].median(axis = 0)) > 1:\r\n",
        "    print(col, 'does not follow a Normal distribution.')\r\n",
        "  else:\r\n",
        "    True"
      ],
      "execution_count": null,
      "outputs": [
        {
          "output_type": "stream",
          "text": [
            "Var7 does not follow a Normal distribution.\n",
            "Var13 does not follow a Normal distribution.\n",
            "Var14 does not follow a Normal distribution.\n",
            "Var24 does not follow a Normal distribution.\n",
            "Var25 does not follow a Normal distribution.\n",
            "Var83 does not follow a Normal distribution.\n",
            "Var130 does not follow a Normal distribution.\n",
            "Var136 does not follow a Normal distribution.\n",
            "Var161 does not follow a Normal distribution.\n"
          ],
          "name": "stdout"
        }
      ]
    },
    {
      "cell_type": "code",
      "metadata": {
        "colab": {
          "base_uri": "https://localhost:8080/"
        },
        "id": "Xm26LgxVzCPO",
        "outputId": "b9f37c70-b17c-4878-ca7c-4529f5736fb2"
      },
      "source": [
        "# Find columns that follow a non-normal distribution\r\n",
        "\r\n",
        "for col in cont_int[cont_int.columns]:\r\n",
        "  if (cont_int[col].mean(axis = 0) - cont_int[col].median(axis = 0)) > 1:\r\n",
        "    print(col, 'does not follow a Normal distribution.')\r\n",
        "  else:\r\n",
        "    True"
      ],
      "execution_count": null,
      "outputs": [
        {
          "output_type": "stream",
          "text": [
            "Var10 does not follow a Normal distribution.\n",
            "Var21 does not follow a Normal distribution.\n",
            "Var22 does not follow a Normal distribution.\n",
            "Var54 does not follow a Normal distribution.\n"
          ],
          "name": "stdout"
        }
      ]
    },
    {
      "cell_type": "code",
      "metadata": {
        "id": "2w3Uxe3Wm_AE"
      },
      "source": [
        "# Applying a Log Transform to the non-normal columns\r\n",
        "transformed = np.log(cont_float[['Var7', 'Var13', 'Var14', 'Var24', 'Var25', 'Var83', 'Var130','Var136', 'Var161']]) \r\n",
        "cont_float[['Var7', 'Var13', 'Var14', 'Var24', 'Var25', 'Var83', 'Var130','Var136', 'Var161']] = transformed\r\n",
        "\r\n",
        "# Applying a Log Transform to the non-normal columns\r\n",
        "transformed1 = np.log(cont_int[['Var10', 'Var21', 'Var22', 'Var54']]) \r\n",
        "cont_int[['Var10', 'Var21', 'Var22', 'Var54']] = transformed1"
      ],
      "execution_count": null,
      "outputs": []
    },
    {
      "cell_type": "code",
      "metadata": {
        "colab": {
          "base_uri": "https://localhost:8080/"
        },
        "id": "FA7rS3ypi1bU",
        "outputId": "bc5bf252-0e71-46bf-b4e5-483d4a8a2e45"
      },
      "source": [
        "print(cont_int.shape)\r\n",
        "print(cont_float.shape)"
      ],
      "execution_count": null,
      "outputs": [
        {
          "output_type": "stream",
          "text": [
            "(13015, 14)\n",
            "(13015, 19)\n"
          ],
          "name": "stdout"
        }
      ]
    },
    {
      "cell_type": "markdown",
      "metadata": {
        "id": "ueLnVUSy0hwo"
      },
      "source": [
        "I shall employ PCA to reduce the dimensionality of the Continuous variables."
      ]
    },
    {
      "cell_type": "code",
      "metadata": {
        "colab": {
          "base_uri": "https://localhost:8080/"
        },
        "id": "z_-dblpL1cI4",
        "outputId": "81c937cd-5b97-4694-923e-35e732c48f22"
      },
      "source": [
        "# Instantiate PCA\r\n",
        "pca4 = PCA(n_components = 3)\r\n",
        "\r\n",
        "# Applying transformations on the Categorical Nominal data\r\n",
        "cont_float1 = pca4.fit_transform(cont_float)\r\n",
        "print(pca4.explained_variance_ratio_)"
      ],
      "execution_count": null,
      "outputs": [
        {
          "output_type": "stream",
          "text": [
            "[0.65276183 0.14003196 0.09919061]\n"
          ],
          "name": "stdout"
        }
      ]
    },
    {
      "cell_type": "code",
      "metadata": {
        "colab": {
          "base_uri": "https://localhost:8080/",
          "height": 204
        },
        "id": "KRrV8E1V-Szr",
        "outputId": "298a3afe-85e7-4d9c-b923-ff5f853ed943"
      },
      "source": [
        "cont_float1_df = pd.DataFrame(data=cont_float1, columns = ['VarD1', 'VarD2', 'VarD3'])\r\n",
        "cont_float1_df.head()"
      ],
      "execution_count": null,
      "outputs": [
        {
          "output_type": "execute_result",
          "data": {
            "text/html": [
              "<div>\n",
              "<style scoped>\n",
              "    .dataframe tbody tr th:only-of-type {\n",
              "        vertical-align: middle;\n",
              "    }\n",
              "\n",
              "    .dataframe tbody tr th {\n",
              "        vertical-align: top;\n",
              "    }\n",
              "\n",
              "    .dataframe thead th {\n",
              "        text-align: right;\n",
              "    }\n",
              "</style>\n",
              "<table border=\"1\" class=\"dataframe\">\n",
              "  <thead>\n",
              "    <tr style=\"text-align: right;\">\n",
              "      <th></th>\n",
              "      <th>VarD1</th>\n",
              "      <th>VarD2</th>\n",
              "      <th>VarD3</th>\n",
              "    </tr>\n",
              "  </thead>\n",
              "  <tbody>\n",
              "    <tr>\n",
              "      <th>0</th>\n",
              "      <td>0.038546</td>\n",
              "      <td>-5.032244</td>\n",
              "      <td>4.368755</td>\n",
              "    </tr>\n",
              "    <tr>\n",
              "      <th>1</th>\n",
              "      <td>0.788333</td>\n",
              "      <td>-0.605301</td>\n",
              "      <td>11.769293</td>\n",
              "    </tr>\n",
              "    <tr>\n",
              "      <th>2</th>\n",
              "      <td>11.627170</td>\n",
              "      <td>-2.586097</td>\n",
              "      <td>5.767333</td>\n",
              "    </tr>\n",
              "    <tr>\n",
              "      <th>3</th>\n",
              "      <td>2.540941</td>\n",
              "      <td>-3.915057</td>\n",
              "      <td>2.121968</td>\n",
              "    </tr>\n",
              "    <tr>\n",
              "      <th>4</th>\n",
              "      <td>14.760531</td>\n",
              "      <td>-5.414547</td>\n",
              "      <td>7.497164</td>\n",
              "    </tr>\n",
              "  </tbody>\n",
              "</table>\n",
              "</div>"
            ],
            "text/plain": [
              "      VarD1     VarD2     VarD3\n",
              "0  0.038546 -5.032244  4.368755\n",
              "1  0.788333 -0.605301 11.769293\n",
              "2 11.627170 -2.586097  5.767333\n",
              "3  2.540941 -3.915057  2.121968\n",
              "4 14.760531 -5.414547  7.497164"
            ]
          },
          "metadata": {
            "tags": []
          },
          "execution_count": 24
        }
      ]
    },
    {
      "cell_type": "code",
      "metadata": {
        "id": "HerxsOE0vXKI"
      },
      "source": [
        "# Replace negative infinite values (-in.inf with 0.000000)\r\n",
        "cont_int = cont_int.replace(-np.inf, 0.000000)"
      ],
      "execution_count": null,
      "outputs": []
    },
    {
      "cell_type": "code",
      "metadata": {
        "colab": {
          "base_uri": "https://localhost:8080/"
        },
        "id": "3KBs2TRmph5C",
        "outputId": "dbdd6d28-8726-492a-ef1b-b5ba83b3960f"
      },
      "source": [
        "# Instantiate PCA\r\n",
        "pca5 = PCA(n_components=3)\r\n",
        "\r\n",
        "# Applying transformations on the Continuous Integer data\r\n",
        "cont_int1 = pca5.fit_transform(cont_int)\r\n",
        "print(pca5.explained_variance_ratio_)"
      ],
      "execution_count": null,
      "outputs": [
        {
          "output_type": "stream",
          "text": [
            "[0.39972992 0.24958054 0.12501639]\n"
          ],
          "name": "stdout"
        }
      ]
    },
    {
      "cell_type": "code",
      "metadata": {
        "colab": {
          "base_uri": "https://localhost:8080/",
          "height": 204
        },
        "id": "KPeOKJ1T9zGR",
        "outputId": "9eefea99-341c-44fe-b0b3-f32939d568ad"
      },
      "source": [
        "cont_int1_df = pd.DataFrame(data=cont_int1, columns = ['VarE1', 'VarE2', 'VarE3'])\r\n",
        "cont_int1_df.head()"
      ],
      "execution_count": null,
      "outputs": [
        {
          "output_type": "execute_result",
          "data": {
            "text/html": [
              "<div>\n",
              "<style scoped>\n",
              "    .dataframe tbody tr th:only-of-type {\n",
              "        vertical-align: middle;\n",
              "    }\n",
              "\n",
              "    .dataframe tbody tr th {\n",
              "        vertical-align: top;\n",
              "    }\n",
              "\n",
              "    .dataframe thead th {\n",
              "        text-align: right;\n",
              "    }\n",
              "</style>\n",
              "<table border=\"1\" class=\"dataframe\">\n",
              "  <thead>\n",
              "    <tr style=\"text-align: right;\">\n",
              "      <th></th>\n",
              "      <th>VarE1</th>\n",
              "      <th>VarE2</th>\n",
              "      <th>VarE3</th>\n",
              "    </tr>\n",
              "  </thead>\n",
              "  <tbody>\n",
              "    <tr>\n",
              "      <th>0</th>\n",
              "      <td>-1.694433</td>\n",
              "      <td>0.124582</td>\n",
              "      <td>2.172520</td>\n",
              "    </tr>\n",
              "    <tr>\n",
              "      <th>1</th>\n",
              "      <td>11.482039</td>\n",
              "      <td>-2.400670</td>\n",
              "      <td>13.153650</td>\n",
              "    </tr>\n",
              "    <tr>\n",
              "      <th>2</th>\n",
              "      <td>6.318355</td>\n",
              "      <td>-8.222653</td>\n",
              "      <td>-3.398529</td>\n",
              "    </tr>\n",
              "    <tr>\n",
              "      <th>3</th>\n",
              "      <td>-14.418736</td>\n",
              "      <td>-0.693834</td>\n",
              "      <td>-4.114428</td>\n",
              "    </tr>\n",
              "    <tr>\n",
              "      <th>4</th>\n",
              "      <td>8.036253</td>\n",
              "      <td>0.011856</td>\n",
              "      <td>-2.659927</td>\n",
              "    </tr>\n",
              "  </tbody>\n",
              "</table>\n",
              "</div>"
            ],
            "text/plain": [
              "       VarE1     VarE2     VarE3\n",
              "0  -1.694433  0.124582  2.172520\n",
              "1  11.482039 -2.400670 13.153650\n",
              "2   6.318355 -8.222653 -3.398529\n",
              "3 -14.418736 -0.693834 -4.114428\n",
              "4   8.036253  0.011856 -2.659927"
            ]
          },
          "metadata": {
            "tags": []
          },
          "execution_count": 27
        }
      ]
    },
    {
      "cell_type": "markdown",
      "metadata": {
        "id": "x9_1exfXzRjn"
      },
      "source": [
        "Concatenate the new transformed dataframes together along **ID**, **Fold** and **Target** columns from the original dataframe."
      ]
    },
    {
      "cell_type": "code",
      "metadata": {
        "id": "5EPP3FijAfFO"
      },
      "source": [
        "ex2_ = ex2[['ID', 'Fold', 'Target']]"
      ],
      "execution_count": null,
      "outputs": []
    },
    {
      "cell_type": "code",
      "metadata": {
        "id": "7ysOcin90He1"
      },
      "source": [
        "ex3 = pd.concat([ex2_, cat_ord1_df, cat_nom1_df, dummy1_df, cont_float1_df, cont_int1_df], axis=1, ignore_index=False, )"
      ],
      "execution_count": null,
      "outputs": []
    },
    {
      "cell_type": "code",
      "metadata": {
        "colab": {
          "base_uri": "https://localhost:8080/"
        },
        "id": "jK7Chdqi1Prt",
        "outputId": "c4823a77-d43e-4cf4-f7ce-bd0e3c31a61c"
      },
      "source": [
        "ex3.shape"
      ],
      "execution_count": null,
      "outputs": [
        {
          "output_type": "execute_result",
          "data": {
            "text/plain": [
              "(13015, 17)"
            ]
          },
          "metadata": {
            "tags": []
          },
          "execution_count": 30
        }
      ]
    },
    {
      "cell_type": "code",
      "metadata": {
        "colab": {
          "base_uri": "https://localhost:8080/",
          "height": 224
        },
        "id": "PTRuUVv528Ak",
        "outputId": "850513b8-7d12-42a8-88f7-2912a143600a"
      },
      "source": [
        "ex3.head()"
      ],
      "execution_count": null,
      "outputs": [
        {
          "output_type": "execute_result",
          "data": {
            "text/html": [
              "<div>\n",
              "<style scoped>\n",
              "    .dataframe tbody tr th:only-of-type {\n",
              "        vertical-align: middle;\n",
              "    }\n",
              "\n",
              "    .dataframe tbody tr th {\n",
              "        vertical-align: top;\n",
              "    }\n",
              "\n",
              "    .dataframe thead th {\n",
              "        text-align: right;\n",
              "    }\n",
              "</style>\n",
              "<table border=\"1\" class=\"dataframe\">\n",
              "  <thead>\n",
              "    <tr style=\"text-align: right;\">\n",
              "      <th></th>\n",
              "      <th>ID</th>\n",
              "      <th>Fold</th>\n",
              "      <th>Target</th>\n",
              "      <th>VarA1</th>\n",
              "      <th>VarA2</th>\n",
              "      <th>VarA3</th>\n",
              "      <th>VarB1</th>\n",
              "      <th>VarB2</th>\n",
              "      <th>VarB3</th>\n",
              "      <th>VarC1</th>\n",
              "      <th>VarC2</th>\n",
              "      <th>VarD1</th>\n",
              "      <th>VarD2</th>\n",
              "      <th>VarD3</th>\n",
              "      <th>VarE1</th>\n",
              "      <th>VarE2</th>\n",
              "      <th>VarE3</th>\n",
              "    </tr>\n",
              "  </thead>\n",
              "  <tbody>\n",
              "    <tr>\n",
              "      <th>0</th>\n",
              "      <td>1</td>\n",
              "      <td>IS</td>\n",
              "      <td>0</td>\n",
              "      <td>-4.354556</td>\n",
              "      <td>2.845304</td>\n",
              "      <td>-2.209473</td>\n",
              "      <td>-1.769098</td>\n",
              "      <td>0.668456</td>\n",
              "      <td>-1.295865</td>\n",
              "      <td>-0.587781</td>\n",
              "      <td>0.659192</td>\n",
              "      <td>0.038546</td>\n",
              "      <td>-5.032244</td>\n",
              "      <td>4.368755</td>\n",
              "      <td>-1.694433</td>\n",
              "      <td>0.124582</td>\n",
              "      <td>2.172520</td>\n",
              "    </tr>\n",
              "    <tr>\n",
              "      <th>1</th>\n",
              "      <td>2</td>\n",
              "      <td>IS</td>\n",
              "      <td>0</td>\n",
              "      <td>-8.205112</td>\n",
              "      <td>0.207556</td>\n",
              "      <td>0.033722</td>\n",
              "      <td>0.439503</td>\n",
              "      <td>1.023401</td>\n",
              "      <td>0.488861</td>\n",
              "      <td>0.407073</td>\n",
              "      <td>0.192413</td>\n",
              "      <td>0.788333</td>\n",
              "      <td>-0.605301</td>\n",
              "      <td>11.769293</td>\n",
              "      <td>11.482039</td>\n",
              "      <td>-2.400670</td>\n",
              "      <td>13.153650</td>\n",
              "    </tr>\n",
              "    <tr>\n",
              "      <th>2</th>\n",
              "      <td>3</td>\n",
              "      <td>IS</td>\n",
              "      <td>0</td>\n",
              "      <td>1.122771</td>\n",
              "      <td>-3.978928</td>\n",
              "      <td>-4.533133</td>\n",
              "      <td>-1.790309</td>\n",
              "      <td>-0.927075</td>\n",
              "      <td>-0.057367</td>\n",
              "      <td>0.847022</td>\n",
              "      <td>-0.492382</td>\n",
              "      <td>11.627170</td>\n",
              "      <td>-2.586097</td>\n",
              "      <td>5.767333</td>\n",
              "      <td>6.318355</td>\n",
              "      <td>-8.222653</td>\n",
              "      <td>-3.398529</td>\n",
              "    </tr>\n",
              "    <tr>\n",
              "      <th>3</th>\n",
              "      <td>4</td>\n",
              "      <td>IS</td>\n",
              "      <td>0</td>\n",
              "      <td>8.329499</td>\n",
              "      <td>14.833848</td>\n",
              "      <td>-3.650035</td>\n",
              "      <td>4.202114</td>\n",
              "      <td>-2.736019</td>\n",
              "      <td>0.997539</td>\n",
              "      <td>-0.653610</td>\n",
              "      <td>-0.275047</td>\n",
              "      <td>2.540941</td>\n",
              "      <td>-3.915057</td>\n",
              "      <td>2.121968</td>\n",
              "      <td>-14.418736</td>\n",
              "      <td>-0.693834</td>\n",
              "      <td>-4.114428</td>\n",
              "    </tr>\n",
              "    <tr>\n",
              "      <th>4</th>\n",
              "      <td>5</td>\n",
              "      <td>IS</td>\n",
              "      <td>0</td>\n",
              "      <td>-1.170211</td>\n",
              "      <td>0.176048</td>\n",
              "      <td>-2.101757</td>\n",
              "      <td>6.255204</td>\n",
              "      <td>-1.073135</td>\n",
              "      <td>1.384546</td>\n",
              "      <td>0.807966</td>\n",
              "      <td>-0.827490</td>\n",
              "      <td>14.760531</td>\n",
              "      <td>-5.414547</td>\n",
              "      <td>7.497164</td>\n",
              "      <td>8.036253</td>\n",
              "      <td>0.011856</td>\n",
              "      <td>-2.659927</td>\n",
              "    </tr>\n",
              "  </tbody>\n",
              "</table>\n",
              "</div>"
            ],
            "text/plain": [
              "   ID Fold  Target     VarA1     VarA2     VarA3     VarB1     VarB2  \\\n",
              "0   1   IS       0 -4.354556  2.845304 -2.209473 -1.769098  0.668456   \n",
              "1   2   IS       0 -8.205112  0.207556  0.033722  0.439503  1.023401   \n",
              "2   3   IS       0  1.122771 -3.978928 -4.533133 -1.790309 -0.927075   \n",
              "3   4   IS       0  8.329499 14.833848 -3.650035  4.202114 -2.736019   \n",
              "4   5   IS       0 -1.170211  0.176048 -2.101757  6.255204 -1.073135   \n",
              "\n",
              "      VarB3     VarC1     VarC2     VarD1     VarD2     VarD3      VarE1  \\\n",
              "0 -1.295865 -0.587781  0.659192  0.038546 -5.032244  4.368755  -1.694433   \n",
              "1  0.488861  0.407073  0.192413  0.788333 -0.605301 11.769293  11.482039   \n",
              "2 -0.057367  0.847022 -0.492382 11.627170 -2.586097  5.767333   6.318355   \n",
              "3  0.997539 -0.653610 -0.275047  2.540941 -3.915057  2.121968 -14.418736   \n",
              "4  1.384546  0.807966 -0.827490 14.760531 -5.414547  7.497164   8.036253   \n",
              "\n",
              "      VarE2     VarE3  \n",
              "0  0.124582  2.172520  \n",
              "1 -2.400670 13.153650  \n",
              "2 -8.222653 -3.398529  \n",
              "3 -0.693834 -4.114428  \n",
              "4  0.011856 -2.659927  "
            ]
          },
          "metadata": {
            "tags": []
          },
          "execution_count": 31
        }
      ]
    },
    {
      "cell_type": "markdown",
      "metadata": {
        "id": "Sdl0-8gZCaY-"
      },
      "source": [
        "I shall split the dataset into Training and Testing sets"
      ]
    },
    {
      "cell_type": "code",
      "metadata": {
        "id": "1-cotyk2CWLt"
      },
      "source": [
        "# Training set\r\n",
        "ex3_train = ex3[ex3['Fold'] == 'IS']\r\n",
        "\r\n",
        "# Testing set\r\n",
        "ex3_test = ex3[ex3['Fold'] == 'OS']"
      ],
      "execution_count": null,
      "outputs": []
    },
    {
      "cell_type": "code",
      "metadata": {
        "id": "XqNhtwVFC5UP"
      },
      "source": [
        "# Drop the Fold column in both Train and Test sets\r\n",
        "ex3_train = ex3_train.drop(columns=['Fold', 'ID'])\r\n",
        "ex3_test = ex3_test.drop(columns=['Fold', 'ID'])"
      ],
      "execution_count": null,
      "outputs": []
    },
    {
      "cell_type": "code",
      "metadata": {
        "colab": {
          "base_uri": "https://localhost:8080/"
        },
        "id": "C1ctH-8j3VpF",
        "outputId": "a53c2148-d0e0-4665-bc9e-89af57c683e2"
      },
      "source": [
        "# Count of Classes\r\n",
        "class_0, class_1 = ex3_train['Target'].value_counts()\r\n",
        "print('Non-Default: Class 0 =', class_0)\r\n",
        "print('Default: Class 1 =', class_1)"
      ],
      "execution_count": null,
      "outputs": [
        {
          "output_type": "stream",
          "text": [
            "Non-Default: Class 0 = 8043\n",
            "Default: Class 1 = 199\n"
          ],
          "name": "stdout"
        }
      ]
    },
    {
      "cell_type": "code",
      "metadata": {
        "colab": {
          "base_uri": "https://localhost:8080/"
        },
        "id": "PcfQtL6Al0C0",
        "outputId": "64f70434-48b4-486a-fe49-5fc399c15fba"
      },
      "source": [
        "199/8043"
      ],
      "execution_count": null,
      "outputs": [
        {
          "output_type": "execute_result",
          "data": {
            "text/plain": [
              "0.0247420116871814"
            ]
          },
          "metadata": {
            "tags": []
          },
          "execution_count": 96
        }
      ]
    },
    {
      "cell_type": "code",
      "metadata": {
        "id": "_1-NRZkG5VeR"
      },
      "source": [
        "Y = ex3_train['Target']\r\n",
        "X = ex3_train.drop(columns=['Target'])"
      ],
      "execution_count": null,
      "outputs": []
    },
    {
      "cell_type": "markdown",
      "metadata": {
        "id": "DJya6_GAK5zE"
      },
      "source": [
        "# **3. Data Preprocessing - Resampling**"
      ]
    },
    {
      "cell_type": "markdown",
      "metadata": {
        "id": "LKiKmuNX7u2U"
      },
      "source": [
        "To manage the problem of imbalanced datasets, I shall employ two techniques:\r\n",
        "1. Undersampling of the Majority class\r\n",
        "2. Oversampling of the Minority class using the Synthetic Minoriity Oversampling Technique (SMOTE)"
      ]
    },
    {
      "cell_type": "markdown",
      "metadata": {
        "id": "prfWyeV9LHz6"
      },
      "source": [
        "#### **Train-Test Split**"
      ]
    },
    {
      "cell_type": "code",
      "metadata": {
        "id": "OkNDJcd_FPGn"
      },
      "source": [
        "# Train Test Split \r\n",
        "\r\n",
        "X_train, X_test, Y_train, Y_test = train_test_split(X, Y, test_size = 0.40, random_state = 10, stratify = Y)"
      ],
      "execution_count": null,
      "outputs": []
    },
    {
      "cell_type": "markdown",
      "metadata": {
        "id": "gAGD9ONCoDQC"
      },
      "source": [
        "### **a. Undersampling of the Majority Class**"
      ]
    },
    {
      "cell_type": "code",
      "metadata": {
        "colab": {
          "base_uri": "https://localhost:8080/"
        },
        "id": "es-4WWpXAQSQ",
        "outputId": "ddd40cb1-2647-4e6c-c132-2254c47b9d6b"
      },
      "source": [
        "xy_train = pd.concat([X_train.reset_index(drop = True), Y_train.reset_index(drop = True)], axis = 1)\r\n",
        "count_non_default, count_default = xy_train['Target'].value_counts()\r\n",
        "count_non_default, count_default"
      ],
      "execution_count": null,
      "outputs": [
        {
          "output_type": "execute_result",
          "data": {
            "text/plain": [
              "(4826, 119)"
            ]
          },
          "metadata": {
            "tags": []
          },
          "execution_count": 37
        }
      ]
    },
    {
      "cell_type": "code",
      "metadata": {
        "colab": {
          "base_uri": "https://localhost:8080/"
        },
        "id": "f5XoHh9F_PMh",
        "outputId": "dc592ef6-b090-4ee1-9f09-f859c2b14161"
      },
      "source": [
        "non_defaults = xy_train[xy_train['Target'] == 0]\r\n",
        "defaults = xy_train[xy_train['Target'] == 1]\r\n",
        "\r\n",
        "# Undersample the Non-defaults\r\n",
        "non_defaults_under = non_defaults.sample(count_default)\r\n",
        "\r\n",
        "# Concatenate the Undersampled Non_defaults with Defaults\r\n",
        "xy_train_under = pd.concat([non_defaults_under.reset_index(drop = True), defaults.reset_index(drop = True)], axis = 0)\r\n",
        "\r\n",
        "# Print the value counts for Target\r\n",
        "print(xy_train_under['Target'].value_counts())"
      ],
      "execution_count": null,
      "outputs": [
        {
          "output_type": "stream",
          "text": [
            "1    119\n",
            "0    119\n",
            "Name: Target, dtype: int64\n"
          ],
          "name": "stdout"
        }
      ]
    },
    {
      "cell_type": "code",
      "metadata": {
        "id": "WwkjFoc1Bk3m"
      },
      "source": [
        "Y_train_us = xy_train_under['Target']\r\n",
        "X_train_us = xy_train_under.drop(columns = ['Target'])"
      ],
      "execution_count": null,
      "outputs": []
    },
    {
      "cell_type": "code",
      "metadata": {
        "id": "EYUXyRJjIqMN"
      },
      "source": [
        "Y_train_us = Y_train_us.sample(238, random_state = 10).reset_index(drop = True)"
      ],
      "execution_count": null,
      "outputs": []
    },
    {
      "cell_type": "code",
      "metadata": {
        "colab": {
          "base_uri": "https://localhost:8080/",
          "height": 204
        },
        "id": "ftgz3ESIQ0Vg",
        "outputId": "bc1866d8-8f6d-4d75-bf79-054f4932fa65"
      },
      "source": [
        "X_train_us = abs(X_train_us)\r\n",
        "X_train_us.head()"
      ],
      "execution_count": null,
      "outputs": [
        {
          "output_type": "execute_result",
          "data": {
            "text/html": [
              "<div>\n",
              "<style scoped>\n",
              "    .dataframe tbody tr th:only-of-type {\n",
              "        vertical-align: middle;\n",
              "    }\n",
              "\n",
              "    .dataframe tbody tr th {\n",
              "        vertical-align: top;\n",
              "    }\n",
              "\n",
              "    .dataframe thead th {\n",
              "        text-align: right;\n",
              "    }\n",
              "</style>\n",
              "<table border=\"1\" class=\"dataframe\">\n",
              "  <thead>\n",
              "    <tr style=\"text-align: right;\">\n",
              "      <th></th>\n",
              "      <th>VarA1</th>\n",
              "      <th>VarA2</th>\n",
              "      <th>VarA3</th>\n",
              "      <th>VarB1</th>\n",
              "      <th>VarB2</th>\n",
              "      <th>VarB3</th>\n",
              "      <th>VarC1</th>\n",
              "      <th>VarC2</th>\n",
              "      <th>VarD1</th>\n",
              "      <th>VarD2</th>\n",
              "      <th>VarD3</th>\n",
              "      <th>VarE1</th>\n",
              "      <th>VarE2</th>\n",
              "      <th>VarE3</th>\n",
              "    </tr>\n",
              "  </thead>\n",
              "  <tbody>\n",
              "    <tr>\n",
              "      <th>0</th>\n",
              "      <td>3.283361</td>\n",
              "      <td>2.211952</td>\n",
              "      <td>0.190683</td>\n",
              "      <td>1.798393</td>\n",
              "      <td>0.240733</td>\n",
              "      <td>0.675388</td>\n",
              "      <td>0.405191</td>\n",
              "      <td>1.075410</td>\n",
              "      <td>17.221456</td>\n",
              "      <td>0.492160</td>\n",
              "      <td>1.766759</td>\n",
              "      <td>11.848005</td>\n",
              "      <td>2.271710</td>\n",
              "      <td>2.061599</td>\n",
              "    </tr>\n",
              "    <tr>\n",
              "      <th>1</th>\n",
              "      <td>8.178824</td>\n",
              "      <td>0.137885</td>\n",
              "      <td>0.056782</td>\n",
              "      <td>1.790309</td>\n",
              "      <td>0.927075</td>\n",
              "      <td>0.057367</td>\n",
              "      <td>0.802149</td>\n",
              "      <td>0.862349</td>\n",
              "      <td>16.530854</td>\n",
              "      <td>3.480987</td>\n",
              "      <td>0.568860</td>\n",
              "      <td>5.644982</td>\n",
              "      <td>4.237583</td>\n",
              "      <td>7.138722</td>\n",
              "    </tr>\n",
              "    <tr>\n",
              "      <th>2</th>\n",
              "      <td>4.529055</td>\n",
              "      <td>2.910196</td>\n",
              "      <td>2.908766</td>\n",
              "      <td>4.188269</td>\n",
              "      <td>1.208574</td>\n",
              "      <td>0.250248</td>\n",
              "      <td>1.626266</td>\n",
              "      <td>1.160316</td>\n",
              "      <td>16.948301</td>\n",
              "      <td>0.495241</td>\n",
              "      <td>1.419340</td>\n",
              "      <td>6.161122</td>\n",
              "      <td>4.297016</td>\n",
              "      <td>4.388711</td>\n",
              "    </tr>\n",
              "    <tr>\n",
              "      <th>3</th>\n",
              "      <td>4.882051</td>\n",
              "      <td>3.479682</td>\n",
              "      <td>0.787414</td>\n",
              "      <td>1.741056</td>\n",
              "      <td>1.488964</td>\n",
              "      <td>0.217861</td>\n",
              "      <td>0.597461</td>\n",
              "      <td>0.100761</td>\n",
              "      <td>0.175602</td>\n",
              "      <td>0.458329</td>\n",
              "      <td>1.996475</td>\n",
              "      <td>18.505364</td>\n",
              "      <td>6.590376</td>\n",
              "      <td>1.737028</td>\n",
              "    </tr>\n",
              "    <tr>\n",
              "      <th>4</th>\n",
              "      <td>2.934194</td>\n",
              "      <td>4.764004</td>\n",
              "      <td>1.156611</td>\n",
              "      <td>1.805347</td>\n",
              "      <td>0.934435</td>\n",
              "      <td>0.031756</td>\n",
              "      <td>0.522474</td>\n",
              "      <td>0.661247</td>\n",
              "      <td>6.823917</td>\n",
              "      <td>1.023974</td>\n",
              "      <td>2.443333</td>\n",
              "      <td>16.114928</td>\n",
              "      <td>1.189826</td>\n",
              "      <td>2.705070</td>\n",
              "    </tr>\n",
              "  </tbody>\n",
              "</table>\n",
              "</div>"
            ],
            "text/plain": [
              "     VarA1    VarA2    VarA3    VarB1    VarB2    VarB3    VarC1    VarC2  \\\n",
              "0 3.283361 2.211952 0.190683 1.798393 0.240733 0.675388 0.405191 1.075410   \n",
              "1 8.178824 0.137885 0.056782 1.790309 0.927075 0.057367 0.802149 0.862349   \n",
              "2 4.529055 2.910196 2.908766 4.188269 1.208574 0.250248 1.626266 1.160316   \n",
              "3 4.882051 3.479682 0.787414 1.741056 1.488964 0.217861 0.597461 0.100761   \n",
              "4 2.934194 4.764004 1.156611 1.805347 0.934435 0.031756 0.522474 0.661247   \n",
              "\n",
              "      VarD1    VarD2    VarD3     VarE1    VarE2    VarE3  \n",
              "0 17.221456 0.492160 1.766759 11.848005 2.271710 2.061599  \n",
              "1 16.530854 3.480987 0.568860  5.644982 4.237583 7.138722  \n",
              "2 16.948301 0.495241 1.419340  6.161122 4.297016 4.388711  \n",
              "3  0.175602 0.458329 1.996475 18.505364 6.590376 1.737028  \n",
              "4  6.823917 1.023974 2.443333 16.114928 1.189826 2.705070  "
            ]
          },
          "metadata": {
            "tags": []
          },
          "execution_count": 41
        }
      ]
    },
    {
      "cell_type": "code",
      "metadata": {
        "colab": {
          "base_uri": "https://localhost:8080/"
        },
        "id": "PRF1ibOFKMe0",
        "outputId": "d274e821-e46a-4b74-b745-42cf8edd5dda"
      },
      "source": [
        "Y_train_us.head()"
      ],
      "execution_count": null,
      "outputs": [
        {
          "output_type": "execute_result",
          "data": {
            "text/plain": [
              "0    0\n",
              "1    1\n",
              "2    1\n",
              "3    0\n",
              "4    1\n",
              "Name: Target, dtype: int64"
            ]
          },
          "metadata": {
            "tags": []
          },
          "execution_count": 42
        }
      ]
    },
    {
      "cell_type": "markdown",
      "metadata": {
        "id": "gwxN4tqpq2Q3"
      },
      "source": [
        "## **b. Oversampling of the Minority Class with SMOTE**"
      ]
    },
    {
      "cell_type": "code",
      "metadata": {
        "colab": {
          "base_uri": "https://localhost:8080/"
        },
        "id": "5jvRsVTsq_dZ",
        "outputId": "d942da18-12a8-4903-848c-fee9c03ca72a"
      },
      "source": [
        "sm = SMOTE(sampling_strategy= 'minority', k_neighbors = 2, random_state = 10)\r\n",
        "X_train_sm, Y_train_sm = sm.fit_resample(X_train, Y_train)\r\n",
        "print('Resampled dataset shape %s' % Counter(Y_train_sm))"
      ],
      "execution_count": null,
      "outputs": [
        {
          "output_type": "stream",
          "text": [
            "Resampled dataset shape Counter({0: 4826, 1: 4826})\n"
          ],
          "name": "stdout"
        }
      ]
    },
    {
      "cell_type": "code",
      "metadata": {
        "colab": {
          "base_uri": "https://localhost:8080/"
        },
        "id": "d2xvgK06uIsc",
        "outputId": "07d8c2ac-3c80-4a61-f0c7-38fb988e98f2"
      },
      "source": [
        "X_train.columns"
      ],
      "execution_count": null,
      "outputs": [
        {
          "output_type": "execute_result",
          "data": {
            "text/plain": [
              "Index(['VarA1', 'VarA2', 'VarA3', 'VarB1', 'VarB2', 'VarB3', 'VarC1', 'VarC2',\n",
              "       'VarD1', 'VarD2', 'VarD3', 'VarE1', 'VarE2', 'VarE3'],\n",
              "      dtype='object')"
            ]
          },
          "metadata": {
            "tags": []
          },
          "execution_count": 44
        }
      ]
    },
    {
      "cell_type": "code",
      "metadata": {
        "id": "ZwqPG4Cjsbw7"
      },
      "source": [
        "X_train_sm = pd.DataFrame(X_train_sm, columns = ['VarA1', 'VarA2', 'VarA3', 'VarB1', 'VarB2', \r\n",
        "                                                 'VarB3', 'VarC1', 'VarC2', 'VarD1', 'VarD2', \r\n",
        "                                                 'VarD3', 'VarE1', 'VarE2', 'VarE3'])\r\n",
        "Y_train_sm = pd.DataFrame(Y_train_sm, columns = ['Target'])\r\n",
        "Y_train_sm = Y_train_sm.sample(9652, random_state = 10).reset_index(drop = True)"
      ],
      "execution_count": null,
      "outputs": []
    },
    {
      "cell_type": "code",
      "metadata": {
        "colab": {
          "base_uri": "https://localhost:8080/",
          "height": 204
        },
        "id": "2YlgdDiYyvgh",
        "outputId": "89dbcda8-cc01-4625-b101-8924bbefea58"
      },
      "source": [
        "X_train_sm = abs(X_train_sm)\r\n",
        "X_train_sm.head()"
      ],
      "execution_count": null,
      "outputs": [
        {
          "output_type": "execute_result",
          "data": {
            "text/html": [
              "<div>\n",
              "<style scoped>\n",
              "    .dataframe tbody tr th:only-of-type {\n",
              "        vertical-align: middle;\n",
              "    }\n",
              "\n",
              "    .dataframe tbody tr th {\n",
              "        vertical-align: top;\n",
              "    }\n",
              "\n",
              "    .dataframe thead th {\n",
              "        text-align: right;\n",
              "    }\n",
              "</style>\n",
              "<table border=\"1\" class=\"dataframe\">\n",
              "  <thead>\n",
              "    <tr style=\"text-align: right;\">\n",
              "      <th></th>\n",
              "      <th>VarA1</th>\n",
              "      <th>VarA2</th>\n",
              "      <th>VarA3</th>\n",
              "      <th>VarB1</th>\n",
              "      <th>VarB2</th>\n",
              "      <th>VarB3</th>\n",
              "      <th>VarC1</th>\n",
              "      <th>VarC2</th>\n",
              "      <th>VarD1</th>\n",
              "      <th>VarD2</th>\n",
              "      <th>VarD3</th>\n",
              "      <th>VarE1</th>\n",
              "      <th>VarE2</th>\n",
              "      <th>VarE3</th>\n",
              "    </tr>\n",
              "  </thead>\n",
              "  <tbody>\n",
              "    <tr>\n",
              "      <th>0</th>\n",
              "      <td>8.208735</td>\n",
              "      <td>0.181987</td>\n",
              "      <td>0.061454</td>\n",
              "      <td>0.728141</td>\n",
              "      <td>1.462918</td>\n",
              "      <td>0.278732</td>\n",
              "      <td>0.196086</td>\n",
              "      <td>0.935151</td>\n",
              "      <td>5.640341</td>\n",
              "      <td>2.135892</td>\n",
              "      <td>2.351430</td>\n",
              "      <td>4.592220</td>\n",
              "      <td>1.617692</td>\n",
              "      <td>6.009937</td>\n",
              "    </tr>\n",
              "    <tr>\n",
              "      <th>1</th>\n",
              "      <td>62.603318</td>\n",
              "      <td>1.537714</td>\n",
              "      <td>22.157934</td>\n",
              "      <td>6.451079</td>\n",
              "      <td>1.678788</td>\n",
              "      <td>0.403686</td>\n",
              "      <td>0.662597</td>\n",
              "      <td>0.132878</td>\n",
              "      <td>0.788333</td>\n",
              "      <td>4.125060</td>\n",
              "      <td>1.224112</td>\n",
              "      <td>20.596609</td>\n",
              "      <td>9.475090</td>\n",
              "      <td>2.290987</td>\n",
              "    </tr>\n",
              "    <tr>\n",
              "      <th>2</th>\n",
              "      <td>8.195421</td>\n",
              "      <td>0.169253</td>\n",
              "      <td>0.037020</td>\n",
              "      <td>0.808665</td>\n",
              "      <td>2.502647</td>\n",
              "      <td>1.206382</td>\n",
              "      <td>0.809087</td>\n",
              "      <td>1.168181</td>\n",
              "      <td>12.399731</td>\n",
              "      <td>0.546641</td>\n",
              "      <td>0.879580</td>\n",
              "      <td>10.556779</td>\n",
              "      <td>1.487548</td>\n",
              "      <td>1.882144</td>\n",
              "    </tr>\n",
              "    <tr>\n",
              "      <th>3</th>\n",
              "      <td>26.250893</td>\n",
              "      <td>3.910303</td>\n",
              "      <td>1.002070</td>\n",
              "      <td>1.797796</td>\n",
              "      <td>0.526669</td>\n",
              "      <td>1.312087</td>\n",
              "      <td>0.527368</td>\n",
              "      <td>0.328879</td>\n",
              "      <td>8.724985</td>\n",
              "      <td>0.715635</td>\n",
              "      <td>2.933545</td>\n",
              "      <td>2.436880</td>\n",
              "      <td>11.898252</td>\n",
              "      <td>0.906979</td>\n",
              "    </tr>\n",
              "    <tr>\n",
              "      <th>4</th>\n",
              "      <td>0.485357</td>\n",
              "      <td>2.918336</td>\n",
              "      <td>6.531545</td>\n",
              "      <td>1.805347</td>\n",
              "      <td>0.934435</td>\n",
              "      <td>0.031756</td>\n",
              "      <td>0.717571</td>\n",
              "      <td>0.783739</td>\n",
              "      <td>13.911270</td>\n",
              "      <td>0.344963</td>\n",
              "      <td>0.475005</td>\n",
              "      <td>0.794440</td>\n",
              "      <td>3.303721</td>\n",
              "      <td>4.710316</td>\n",
              "    </tr>\n",
              "  </tbody>\n",
              "</table>\n",
              "</div>"
            ],
            "text/plain": [
              "      VarA1    VarA2     VarA3    VarB1    VarB2    VarB3    VarC1    VarC2  \\\n",
              "0  8.208735 0.181987  0.061454 0.728141 1.462918 0.278732 0.196086 0.935151   \n",
              "1 62.603318 1.537714 22.157934 6.451079 1.678788 0.403686 0.662597 0.132878   \n",
              "2  8.195421 0.169253  0.037020 0.808665 2.502647 1.206382 0.809087 1.168181   \n",
              "3 26.250893 3.910303  1.002070 1.797796 0.526669 1.312087 0.527368 0.328879   \n",
              "4  0.485357 2.918336  6.531545 1.805347 0.934435 0.031756 0.717571 0.783739   \n",
              "\n",
              "      VarD1    VarD2    VarD3     VarE1     VarE2    VarE3  \n",
              "0  5.640341 2.135892 2.351430  4.592220  1.617692 6.009937  \n",
              "1  0.788333 4.125060 1.224112 20.596609  9.475090 2.290987  \n",
              "2 12.399731 0.546641 0.879580 10.556779  1.487548 1.882144  \n",
              "3  8.724985 0.715635 2.933545  2.436880 11.898252 0.906979  \n",
              "4 13.911270 0.344963 0.475005  0.794440  3.303721 4.710316  "
            ]
          },
          "metadata": {
            "tags": []
          },
          "execution_count": 46
        }
      ]
    },
    {
      "cell_type": "code",
      "metadata": {
        "id": "Ok0k91ZpvwFA"
      },
      "source": [
        "# Apply SelectKBest class to extract top 10 best features\r\n",
        "\r\n",
        "#scaler = MinMaxScaler()\r\n",
        "#X_train_scaled = scaler.fit_transform(X_train)\r\n",
        "#best = SelectKBest(score_func = chi2, k = 10)\r\n",
        "#fit_K = best.fit(X_train_scaled, Y_train)\r\n",
        "#best_scores = pd.DataFrame(fit_K.scores_)\r\n",
        "#cols = pd.DataFrame(X_train.columns)\r\n",
        "\r\n",
        "# concat two dataframes for better visualization \r\n",
        "#best_features = pd.concat([cols, best_scores], axis = 1)\r\n",
        "#best_features.columns = ['Features', 'Score']  #naming the dataframe columns\r\n",
        "#best_features.nlargest(10, 'Score')  #print 10 best features"
      ],
      "execution_count": null,
      "outputs": []
    },
    {
      "cell_type": "markdown",
      "metadata": {
        "id": "tfxWi6zcRefR"
      },
      "source": [
        "I shall use the following models\r\n",
        "1. Logistic Regression Classifier\r\n",
        "2. KNN Classifier\r\n",
        "3. Random Forest Classifier\r\n",
        "\r\n"
      ]
    },
    {
      "cell_type": "markdown",
      "metadata": {
        "id": "tQaNpJs1Lj32"
      },
      "source": [
        "# **4. Classification Pipeline**"
      ]
    },
    {
      "cell_type": "markdown",
      "metadata": {
        "id": "PdGU9qDyfNSi"
      },
      "source": [
        "## **1. Normalised data with the Majority Class Undersampled**"
      ]
    },
    {
      "cell_type": "code",
      "metadata": {
        "colab": {
          "base_uri": "https://localhost:8080/"
        },
        "id": "1GiW1eqKRVxh",
        "outputId": "753a7199-7d0c-437f-855c-38f2dc63ef1f"
      },
      "source": [
        "pipelines = []\r\n",
        "pipelines.append(('Standardised and Undersampled Class with Logit', Pipeline([('Scaler', StandardScaler()), ('Logit', LogisticRegression())])))\r\n",
        "pipelines.append(('Standardised and Undersampled Class with KNN', Pipeline([('Scaler', StandardScaler()), ('KNN', KNeighborsClassifier())])))\r\n",
        "pipelines.append(('Standardised and Undersampled Class with RF', Pipeline([('Scaler', StandardScaler()), ('RF', RandomForestClassifier())])))\r\n",
        "\r\n",
        "results = []\r\n",
        "names = []\r\n",
        "for name, model in pipelines:\r\n",
        "  kfold = KFold(n_splits = 5, random_state = 10)\r\n",
        "  cv_results = cross_val_score(model, X_train_us, Y_train_us, cv = kfold, scoring = 'roc_auc')\r\n",
        "  results.append(cv_results)\r\n",
        "  names.append(name)\r\n",
        "  notification = '%s: %f (%f)' % (name, cv_results.mean(), cv_results.std())\r\n",
        "  print(notification)"
      ],
      "execution_count": null,
      "outputs": [
        {
          "output_type": "stream",
          "text": [
            "Standardised and Undersampled Class with Logit: 0.527062 (0.041875)\n",
            "Standardised and Undersampled Class with KNN: 0.561181 (0.092626)\n",
            "Standardised and Undersampled Class with RF: 0.664907 (0.043214)\n"
          ],
          "name": "stdout"
        }
      ]
    },
    {
      "cell_type": "markdown",
      "metadata": {
        "id": "Wvlrc1fOr7BV"
      },
      "source": [
        "## **2. Normalised data with the Minority Class Oversampled**"
      ]
    },
    {
      "cell_type": "code",
      "metadata": {
        "colab": {
          "base_uri": "https://localhost:8080/"
        },
        "id": "SfVGmdJNr0k5",
        "outputId": "a48b0da5-1c8f-43a6-80d0-4ea410fdd71a"
      },
      "source": [
        "pipelines = []\r\n",
        "pipelines.append(('Standardised and Oversampled Class with Logit', Pipeline([('Scaler', StandardScaler()), ('Logit', LogisticRegression())])))\r\n",
        "pipelines.append(('Standardised and Oversampled Class with KNN', Pipeline([('Scaler', StandardScaler()), ('KNN', KNeighborsClassifier())])))\r\n",
        "pipelines.append(('Standardised and Oversampled Class with RF', Pipeline([('Scaler', StandardScaler()), ('RF', RandomForestClassifier())])))\r\n",
        "\r\n",
        "results = []\r\n",
        "names = []\r\n",
        "for name, model in pipelines:\r\n",
        "  kfold = KFold(n_splits = 5, random_state = 10)\r\n",
        "  cv_results = cross_val_score(model, X_train_sm, Y_train_sm, cv = kfold, scoring = 'roc_auc')\r\n",
        "  results.append(cv_results)\r\n",
        "  names.append(name)\r\n",
        "  notification = '%s: %f (%f)' % (name, cv_results.mean(), cv_results.std())\r\n",
        "  print(notification)"
      ],
      "execution_count": null,
      "outputs": [
        {
          "output_type": "stream",
          "text": [
            "Standardised and Oversampled Class with Logit: 0.511399 (0.009873)\n",
            "Standardised and Oversampled Class with KNN: 0.502409 (0.009822)\n",
            "Standardised and Oversampled Class with RF: 0.514270 (0.012382)\n"
          ],
          "name": "stdout"
        }
      ]
    },
    {
      "cell_type": "markdown",
      "metadata": {
        "id": "gQnJnTjm1W-9"
      },
      "source": [
        "Random Forest performs best using the Scaled, Majority-Undersampled data and also using the Scaled, Minority-Oversampled data. So I shall build the model using the Random Forest Classifier."
      ]
    },
    {
      "cell_type": "markdown",
      "metadata": {
        "id": "C5dw5OiyMCAu"
      },
      "source": [
        "# **5. Model Development**"
      ]
    },
    {
      "cell_type": "markdown",
      "metadata": {
        "id": "yI3UxcBwDHu0"
      },
      "source": [
        "### **1. Random Forest with Majority Undersampled data**"
      ]
    },
    {
      "cell_type": "code",
      "metadata": {
        "colab": {
          "base_uri": "https://localhost:8080/"
        },
        "id": "OpMswthAGozc",
        "outputId": "555b8d64-1df5-4489-f6ea-0f05021c4191"
      },
      "source": [
        "param_grid = {'n_estimators': np.array([100, 200, 300, 400, 500]), \r\n",
        "              'max_depth': np.array([2, 3, 4, 5, 6, 7, 8, 9, 10])}\r\n",
        "model = RandomForestClassifier(random_state = 10)\r\n",
        "kfold = KFold(n_splits = 5, random_state = 10)\r\n",
        "grid = GridSearchCV(estimator = model, param_grid = param_grid, scoring = 'roc_auc', cv = kfold)\r\n",
        "grid_result = grid.fit(X_train_us, Y_train_us)\r\n",
        "\r\n",
        "means = grid_result.cv_results_['mean_test_score']\r\n",
        "stds = grid_result.cv_results_['std_test_score']\r\n",
        "params = grid_result.cv_results_['params']\r\n",
        "for mean, stdev, param in zip(means, stds, params):\r\n",
        "    print('%f (%f) with: %r' % (mean, stdev, param))\r\n",
        "\r\n",
        "print('Best: %f using %s' % (grid_result.best_score_, grid_result.best_params_))"
      ],
      "execution_count": null,
      "outputs": [
        {
          "output_type": "stream",
          "text": [
            "0.631510 (0.037676) with: {'max_depth': 2, 'n_estimators': 100}\n",
            "0.636897 (0.042700) with: {'max_depth': 2, 'n_estimators': 200}\n",
            "0.637065 (0.044042) with: {'max_depth': 2, 'n_estimators': 300}\n",
            "0.638715 (0.046377) with: {'max_depth': 2, 'n_estimators': 400}\n",
            "0.638489 (0.046290) with: {'max_depth': 2, 'n_estimators': 500}\n",
            "0.632510 (0.052366) with: {'max_depth': 3, 'n_estimators': 100}\n",
            "0.639101 (0.050253) with: {'max_depth': 3, 'n_estimators': 200}\n",
            "0.642454 (0.047311) with: {'max_depth': 3, 'n_estimators': 300}\n",
            "0.644219 (0.048441) with: {'max_depth': 3, 'n_estimators': 400}\n",
            "0.643584 (0.046994) with: {'max_depth': 3, 'n_estimators': 500}\n",
            "0.631669 (0.035881) with: {'max_depth': 4, 'n_estimators': 100}\n",
            "0.621775 (0.035100) with: {'max_depth': 4, 'n_estimators': 200}\n",
            "0.632698 (0.042597) with: {'max_depth': 4, 'n_estimators': 300}\n",
            "0.633344 (0.043758) with: {'max_depth': 4, 'n_estimators': 400}\n",
            "0.639488 (0.046693) with: {'max_depth': 4, 'n_estimators': 500}\n",
            "0.635577 (0.044325) with: {'max_depth': 5, 'n_estimators': 100}\n",
            "0.638845 (0.039714) with: {'max_depth': 5, 'n_estimators': 200}\n",
            "0.643640 (0.045945) with: {'max_depth': 5, 'n_estimators': 300}\n",
            "0.643684 (0.046697) with: {'max_depth': 5, 'n_estimators': 400}\n",
            "0.645151 (0.046652) with: {'max_depth': 5, 'n_estimators': 500}\n",
            "0.644624 (0.026358) with: {'max_depth': 6, 'n_estimators': 100}\n",
            "0.646113 (0.032558) with: {'max_depth': 6, 'n_estimators': 200}\n",
            "0.648803 (0.040282) with: {'max_depth': 6, 'n_estimators': 300}\n",
            "0.649944 (0.041499) with: {'max_depth': 6, 'n_estimators': 400}\n",
            "0.653186 (0.043288) with: {'max_depth': 6, 'n_estimators': 500}\n",
            "0.619641 (0.042699) with: {'max_depth': 7, 'n_estimators': 100}\n",
            "0.636261 (0.042412) with: {'max_depth': 7, 'n_estimators': 200}\n",
            "0.637546 (0.045281) with: {'max_depth': 7, 'n_estimators': 300}\n",
            "0.646246 (0.041754) with: {'max_depth': 7, 'n_estimators': 400}\n",
            "0.649563 (0.048393) with: {'max_depth': 7, 'n_estimators': 500}\n",
            "0.611422 (0.048996) with: {'max_depth': 8, 'n_estimators': 100}\n",
            "0.631358 (0.044949) with: {'max_depth': 8, 'n_estimators': 200}\n",
            "0.638079 (0.043583) with: {'max_depth': 8, 'n_estimators': 300}\n",
            "0.642422 (0.039023) with: {'max_depth': 8, 'n_estimators': 400}\n",
            "0.647796 (0.047487) with: {'max_depth': 8, 'n_estimators': 500}\n",
            "0.622438 (0.055479) with: {'max_depth': 9, 'n_estimators': 100}\n",
            "0.621731 (0.059046) with: {'max_depth': 9, 'n_estimators': 200}\n",
            "0.629775 (0.062291) with: {'max_depth': 9, 'n_estimators': 300}\n",
            "0.631602 (0.060592) with: {'max_depth': 9, 'n_estimators': 400}\n",
            "0.636638 (0.065724) with: {'max_depth': 9, 'n_estimators': 500}\n",
            "0.621468 (0.059777) with: {'max_depth': 10, 'n_estimators': 100}\n",
            "0.623351 (0.054242) with: {'max_depth': 10, 'n_estimators': 200}\n",
            "0.624093 (0.057668) with: {'max_depth': 10, 'n_estimators': 300}\n",
            "0.633154 (0.061722) with: {'max_depth': 10, 'n_estimators': 400}\n",
            "0.635915 (0.061556) with: {'max_depth': 10, 'n_estimators': 500}\n",
            "Best: 0.653186 using {'max_depth': 6, 'n_estimators': 500}\n"
          ],
          "name": "stdout"
        }
      ]
    },
    {
      "cell_type": "markdown",
      "metadata": {
        "id": "G7j2qTFC4xQ3"
      },
      "source": [
        "### **Validate and Finalise Model: Majority Undersampled**"
      ]
    },
    {
      "cell_type": "code",
      "metadata": {
        "id": "9xtJt75L9WdV"
      },
      "source": [
        "rf_model_us = RandomForestClassifier(max_depth = 6, n_estimators = 500, random_state = 10)\r\n",
        "\r\n",
        "rf_model_us.fit(X_train_us, np.ravel(Y_train_us))\r\n",
        "\r\n",
        "X_test = abs(X_test)\r\n",
        "predictions_rf_us = rf_model_us.predict(X_test)\r\n",
        "probabilities_rf_us = rf_model_us.predict_proba(X_test)[:, 1]"
      ],
      "execution_count": null,
      "outputs": []
    },
    {
      "cell_type": "markdown",
      "metadata": {
        "id": "SOyY_RwlMVi5"
      },
      "source": [
        "### **2. Random Forest with Minority Oversampled data**"
      ]
    },
    {
      "cell_type": "code",
      "metadata": {
        "colab": {
          "base_uri": "https://localhost:8080/"
        },
        "id": "VOER6tNaCzIM",
        "outputId": "000db6bd-c97d-4f88-e4f7-7751e5c1dbde"
      },
      "source": [
        "param_grid = {'n_estimators': np.array([100, 200, 300, 400, 500]), \r\n",
        "              'max_depth': np.array([2, 3, 4, 5, 6, 7, 8, 9, 10])}\r\n",
        "model = RandomForestClassifier(random_state = 10)\r\n",
        "kfold = KFold(n_splits = 5, random_state = 10)\r\n",
        "grid = GridSearchCV(estimator = model, param_grid = param_grid, scoring = 'roc_auc', cv = kfold)\r\n",
        "grid_result = grid.fit(X_train_sm, Y_train_sm)\r\n",
        "\r\n",
        "means = grid_result.cv_results_['mean_test_score']\r\n",
        "stds = grid_result.cv_results_['std_test_score']\r\n",
        "params = grid_result.cv_results_['params']\r\n",
        "for mean, stdev, param in zip(means, stds, params):\r\n",
        "    print('%f (%f) with: %r' % (mean, stdev, param))\r\n",
        "\r\n",
        "print('Best: %f using %s' % (grid_result.best_score_, grid_result.best_params_))"
      ],
      "execution_count": null,
      "outputs": [
        {
          "output_type": "stream",
          "text": [
            "0.509598 (0.010855) with: {'max_depth': 2, 'n_estimators': 100}\n",
            "0.508928 (0.009260) with: {'max_depth': 2, 'n_estimators': 200}\n",
            "0.511334 (0.009492) with: {'max_depth': 2, 'n_estimators': 300}\n",
            "0.510988 (0.008958) with: {'max_depth': 2, 'n_estimators': 400}\n",
            "0.512085 (0.008829) with: {'max_depth': 2, 'n_estimators': 500}\n",
            "0.509981 (0.012196) with: {'max_depth': 3, 'n_estimators': 100}\n",
            "0.510343 (0.007546) with: {'max_depth': 3, 'n_estimators': 200}\n",
            "0.511634 (0.007374) with: {'max_depth': 3, 'n_estimators': 300}\n",
            "0.511708 (0.007383) with: {'max_depth': 3, 'n_estimators': 400}\n",
            "0.512101 (0.007600) with: {'max_depth': 3, 'n_estimators': 500}\n",
            "0.511470 (0.009290) with: {'max_depth': 4, 'n_estimators': 100}\n",
            "0.510653 (0.010205) with: {'max_depth': 4, 'n_estimators': 200}\n",
            "0.511238 (0.009425) with: {'max_depth': 4, 'n_estimators': 300}\n",
            "0.511621 (0.009893) with: {'max_depth': 4, 'n_estimators': 400}\n",
            "0.511170 (0.009937) with: {'max_depth': 4, 'n_estimators': 500}\n",
            "0.510491 (0.011347) with: {'max_depth': 5, 'n_estimators': 100}\n",
            "0.511341 (0.009588) with: {'max_depth': 5, 'n_estimators': 200}\n",
            "0.511724 (0.010306) with: {'max_depth': 5, 'n_estimators': 300}\n",
            "0.512401 (0.010816) with: {'max_depth': 5, 'n_estimators': 400}\n",
            "0.512078 (0.010357) with: {'max_depth': 5, 'n_estimators': 500}\n",
            "0.516019 (0.015046) with: {'max_depth': 6, 'n_estimators': 100}\n",
            "0.514169 (0.014063) with: {'max_depth': 6, 'n_estimators': 200}\n",
            "0.514786 (0.011758) with: {'max_depth': 6, 'n_estimators': 300}\n",
            "0.515503 (0.011092) with: {'max_depth': 6, 'n_estimators': 400}\n",
            "0.515518 (0.010507) with: {'max_depth': 6, 'n_estimators': 500}\n",
            "0.513033 (0.009784) with: {'max_depth': 7, 'n_estimators': 100}\n",
            "0.514533 (0.008492) with: {'max_depth': 7, 'n_estimators': 200}\n",
            "0.513569 (0.010037) with: {'max_depth': 7, 'n_estimators': 300}\n",
            "0.514298 (0.009297) with: {'max_depth': 7, 'n_estimators': 400}\n",
            "0.514776 (0.009056) with: {'max_depth': 7, 'n_estimators': 500}\n",
            "0.513737 (0.012610) with: {'max_depth': 8, 'n_estimators': 100}\n",
            "0.512584 (0.011363) with: {'max_depth': 8, 'n_estimators': 200}\n",
            "0.514712 (0.011258) with: {'max_depth': 8, 'n_estimators': 300}\n",
            "0.515140 (0.011114) with: {'max_depth': 8, 'n_estimators': 400}\n",
            "0.514911 (0.010107) with: {'max_depth': 8, 'n_estimators': 500}\n",
            "0.513175 (0.010135) with: {'max_depth': 9, 'n_estimators': 100}\n",
            "0.512908 (0.011161) with: {'max_depth': 9, 'n_estimators': 200}\n",
            "0.515469 (0.009397) with: {'max_depth': 9, 'n_estimators': 300}\n",
            "0.515955 (0.009241) with: {'max_depth': 9, 'n_estimators': 400}\n",
            "0.515730 (0.009801) with: {'max_depth': 9, 'n_estimators': 500}\n",
            "0.519558 (0.009637) with: {'max_depth': 10, 'n_estimators': 100}\n",
            "0.519580 (0.009478) with: {'max_depth': 10, 'n_estimators': 200}\n",
            "0.518475 (0.010219) with: {'max_depth': 10, 'n_estimators': 300}\n",
            "0.518189 (0.008571) with: {'max_depth': 10, 'n_estimators': 400}\n",
            "0.518035 (0.009196) with: {'max_depth': 10, 'n_estimators': 500}\n",
            "Best: 0.519580 using {'max_depth': 10, 'n_estimators': 200}\n"
          ],
          "name": "stdout"
        }
      ]
    },
    {
      "cell_type": "markdown",
      "metadata": {
        "id": "IIOAe9M0jrYv"
      },
      "source": [
        "### **Validate and Finalise Model: Minority Oversampled**"
      ]
    },
    {
      "cell_type": "code",
      "metadata": {
        "id": "VM5NvM_2h8bi"
      },
      "source": [
        "rf_model_sm = RandomForestClassifier(max_depth = 10, n_estimators = 200, random_state = 10)\r\n",
        "\r\n",
        "rf_model_sm.fit(X_train_sm, np.ravel(Y_train_sm))\r\n",
        "\r\n",
        "X_test = abs(X_test)\r\n",
        "predictions_rf_sm = rf_model_sm.predict(X_test)\r\n",
        "probabilities_rf_sm = rf_model_sm.predict_proba(X_test)[:, 1]"
      ],
      "execution_count": null,
      "outputs": []
    },
    {
      "cell_type": "markdown",
      "metadata": {
        "id": "j0Y0G0kl9M6M"
      },
      "source": [
        "# **6. Model Evaluation**"
      ]
    },
    {
      "cell_type": "markdown",
      "metadata": {
        "id": "zwFyYMtQ5GIZ"
      },
      "source": [
        "### **Classification Report: Majority Undersampled**"
      ]
    },
    {
      "cell_type": "code",
      "metadata": {
        "colab": {
          "base_uri": "https://localhost:8080/",
          "height": 700
        },
        "id": "UjJdyuozn7F1",
        "outputId": "911ca8ff-b9d9-4a42-b959-81c6773442d4"
      },
      "source": [
        "print('Accuracy of Random Forest Classifier on training set: {:.6f}'.format(rf_model_us.score(X_train_us, Y_train_us)))\r\n",
        "print('AUC Score of the Random Forest Classifier is: {:.6f}'.format(roc_auc_score(Y_test, probabilities_rf_us)))\r\n",
        "target_names = ['Non-Default', 'Default']\r\n",
        "\r\n",
        "# Classification Report for Random Forest with the Majority Class Undersampled\r\n",
        "print(classification_report(Y_test, predictions_rf_us, target_names = target_names))\r\n",
        "\r\n",
        "# Confusion Matrix for Random Forest with the Majority Class Undersampled\r\n",
        "confusion_matrix_us = pd.crosstab(Y_test, predictions_rf_us, rownames = ['Actual'], colnames = ['Predicted'])\r\n",
        "print(confusion_matrix_us)\r\n",
        "sns.heatmap(confusion_matrix_us, annot = True)\r\n",
        "plt.show()"
      ],
      "execution_count": null,
      "outputs": [
        {
          "output_type": "stream",
          "text": [
            "Accuracy of Random Forest Classifier on training set: 0.978992\n",
            "AUC Score of the Random Forest Classifier is: 0.485569\n",
            "              precision    recall  f1-score   support\n",
            "\n",
            " Non-Default       0.97      0.48      0.65      3217\n",
            "     Default       0.02      0.45      0.04        80\n",
            "\n",
            "    accuracy                           0.48      3297\n",
            "   macro avg       0.50      0.47      0.34      3297\n",
            "weighted avg       0.95      0.48      0.63      3297\n",
            "\n",
            "Predicted     0     1\n",
            "Actual               \n",
            "0          1554  1663\n",
            "1            44    36\n"
          ],
          "name": "stdout"
        },
        {
          "output_type": "display_data",
          "data": {
            "image/png": "[encoded data removed]",
            "text/plain": [
              "<Figure size 720x504 with 2 Axes>"
            ]
          },
          "metadata": {
            "tags": []
          }
        }
      ]
    },
    {
      "cell_type": "markdown",
      "metadata": {
        "id": "5b04Sya5_Sba"
      },
      "source": [
        "### **Classification Report: Minority Oversampled**"
      ]
    },
    {
      "cell_type": "code",
      "metadata": {
        "colab": {
          "base_uri": "https://localhost:8080/",
          "height": 700
        },
        "id": "WslaDbtW_S3H",
        "outputId": "9294a428-afa1-4f62-9503-dddcf3e94df8"
      },
      "source": [
        "print('Accuracy of Random Forest Classifier on training set: {:.6f}'.format(rf_model_sm.score(X_train_sm, Y_train_sm)))\r\n",
        "print('AUC Score of the Random Forest Classifier is: {:.6f}'.format(roc_auc_score(Y_test, probabilities_rf_sm)))\r\n",
        "target_names = ['Non-Default', 'Default']\r\n",
        "\r\n",
        "# Classification Report for Random Forest with the Majority Class Undersampled\r\n",
        "print(classification_report(Y_test, predictions_rf_sm, target_names = target_names))\r\n",
        "\r\n",
        "# Confusion Matrix for Random Forest with the Majority Class Undersampled\r\n",
        "confusion_matrix_sm = pd.crosstab(Y_test, predictions_rf_sm, rownames = ['Actual'], colnames = ['Predicted'])\r\n",
        "print(confusion_matrix_sm)\r\n",
        "sns.heatmap(confusion_matrix_sm, annot = True)\r\n",
        "plt.show()"
      ],
      "execution_count": null,
      "outputs": [
        {
          "output_type": "stream",
          "text": [
            "Accuracy of Random Forest Classifier on training set: 0.846042\n",
            "AUC Score of the Random Forest Classifier is: 0.501080\n",
            "              precision    recall  f1-score   support\n",
            "\n",
            " Non-Default       0.98      0.59      0.74      3217\n",
            "     Default       0.03      0.44      0.05        80\n",
            "\n",
            "    accuracy                           0.59      3297\n",
            "   macro avg       0.50      0.51      0.39      3297\n",
            "weighted avg       0.95      0.59      0.72      3297\n",
            "\n",
            "Predicted     0     1\n",
            "Actual               \n",
            "0          1896  1321\n",
            "1            45    35\n"
          ],
          "name": "stdout"
        },
        {
          "output_type": "display_data",
          "data": {
            "image/png": "[encoded data removed]",
            "text/plain": [
              "<Figure size 720x504 with 2 Axes>"
            ]
          },
          "metadata": {
            "tags": []
          }
        }
      ]
    },
    {
      "cell_type": "code",
      "metadata": {
        "colab": {
          "base_uri": "https://localhost:8080/",
          "height": 462
        },
        "id": "rUzWNWudFpVN",
        "outputId": "6223a203-c386-4bdb-ffc9-eef697b7ea97"
      },
      "source": [
        "# ROC chart components\r\n",
        "fallout_us, sensitivity_us, thresholds_us = roc_curve(Y_test, probabilities_rf_us)\r\n",
        "fallout_sm, sensitivity_sm, thresholds_sm = roc_curve(Y_test, probabilities_rf_sm)\r\n",
        "\r\n",
        "# ROC Chart with both Majority-Undersampled and Minority-Oversampled Random Forest models\r\n",
        "plt.plot(fallout_us, sensitivity_us, color = 'deeppink', label='%s' % 'Majority-Undersampled Random Forest')\r\n",
        "plt.plot(fallout_sm, sensitivity_sm, color = 'green', label='%s' % 'Minority-Oversampled Random Forest')\r\n",
        "plt.plot([0, 1], [0, 1], linestyle='--', label='%s' % 'Random Prediction')\r\n",
        "plt.title('ROC Plot for the Probabilities of Default for Random Forest for Majority-Undersampled and Minority-Oversampled Classes')\r\n",
        "plt.xlabel('Fall-out')\r\n",
        "plt.ylabel('Sensitivity')\r\n",
        "plt.legend()\r\n",
        "plt.show()"
      ],
      "execution_count": null,
      "outputs": [
        {
          "output_type": "display_data",
          "data": {
            "image/png": "[encoded data removed]",
            "text/plain": [
              "<Figure size 720x504 with 1 Axes>"
            ]
          },
          "metadata": {
            "tags": []
          }
        }
      ]
    },
    {
      "cell_type": "markdown",
      "metadata": {
        "id": "PbJnHSGBNGuP"
      },
      "source": [
        "# **7. Model Implementation with Test Dataset**"
      ]
    },
    {
      "cell_type": "code",
      "metadata": {
        "id": "KWTWhXNwWjXx"
      },
      "source": [
        "rf_model_final = RandomForestClassifier(max_depth = 10, n_estimators = 200, random_state = 10)\r\n",
        "\r\n",
        "rf_model_final.fit(X_train_sm, np.ravel(Y_train_sm))\r\n",
        "\r\n",
        "data = abs(ex3_test)\r\n",
        "actual = ex3_test['Target'].astype(int)\r\n",
        "data = data.drop(columns = 'Target')\r\n",
        "predictions_rf_final = rf_model_final.predict(data)\r\n",
        "probabilities_rf_final = rf_model_final.predict_proba(data)[:, 1]"
      ],
      "execution_count": null,
      "outputs": []
    },
    {
      "cell_type": "code",
      "metadata": {
        "colab": {
          "base_uri": "https://localhost:8080/",
          "height": 700
        },
        "id": "l-hVp7RrYEBb",
        "outputId": "1acc4d58-0e3c-4dce-8596-7e45249edb39"
      },
      "source": [
        "print('Accuracy of Random Forest Classifier on Final data: {:.6f}'.format(rf_model_final.score(data, actual)))\r\n",
        "print('AUC Score of the Random Forest Classifier is: {:.6f}'.format(roc_auc_score(actual, probabilities_rf_final)))\r\n",
        "target_names = ['Non-Default', 'Default']\r\n",
        "\r\n",
        "# Classification Report for Random Forest with the Majority Class Undersampled\r\n",
        "print(classification_report(actual, predictions_rf_final, target_names = target_names))\r\n",
        "\r\n",
        "# Confusion Matrix for Random Forest with the Majority Class Undersampled\r\n",
        "confusion_matrix_final = pd.crosstab(actual, predictions_rf_final, rownames = ['Actual'], colnames = ['Predicted'])\r\n",
        "print(confusion_matrix_final)\r\n",
        "sns.heatmap(confusion_matrix_final, annot = True)\r\n",
        "plt.show()"
      ],
      "execution_count": null,
      "outputs": [
        {
          "output_type": "stream",
          "text": [
            "Accuracy of Random Forest Classifier on Final data: 0.544940\n",
            "AUC Score of the Random Forest Classifier is: 0.534742\n",
            "              precision    recall  f1-score   support\n",
            "\n",
            " Non-Default       0.98      0.55      0.70      4691\n",
            "     Default       0.02      0.46      0.03        82\n",
            "\n",
            "    accuracy                           0.54      4773\n",
            "   macro avg       0.50      0.50      0.37      4773\n",
            "weighted avg       0.97      0.54      0.69      4773\n",
            "\n",
            "Predicted     0     1\n",
            "Actual               \n",
            "0          2563  2128\n",
            "1            44    38\n"
          ],
          "name": "stdout"
        },
        {
          "output_type": "display_data",
          "data": {
            "image/png": "[encoded data removed]",
            "text/plain": [
              "<Figure size 720x504 with 2 Axes>"
            ]
          },
          "metadata": {
            "tags": []
          }
        }
      ]
    },
    {
      "cell_type": "code",
      "metadata": {
        "colab": {
          "base_uri": "https://localhost:8080/",
          "height": 462
        },
        "id": "WOfU6840Y7Z5",
        "outputId": "59c71f93-ea96-415b-f360-12019ade80dc"
      },
      "source": [
        "# ROC chart components\r\n",
        "fallout_final, sensitivity_final, thresholds_final = roc_curve(actual, probabilities_rf_final)\r\n",
        "\r\n",
        "# ROC Chart with both\r\n",
        "\r\n",
        "plt.plot(fallout_final, sensitivity_final, color = 'green', label='%s' % 'Final Data on Minority-Oversampled Random Forest')\r\n",
        "plt.plot([0, 1], [0, 1], linestyle='--', label='%s' % 'Random Prediction')\r\n",
        "plt.title('ROC Plot for the Probabilities of Default for Random Forest Final data')\r\n",
        "plt.xlabel('Fall-out')\r\n",
        "plt.ylabel('Sensitivity')\r\n",
        "plt.legend()\r\n",
        "plt.show()"
      ],
      "execution_count": null,
      "outputs": [
        {
          "output_type": "display_data",
          "data": {
            "image/png": "[encoded data removed]",
            "text/plain": [
              "<Figure size 720x504 with 1 Axes>"
            ]
          },
          "metadata": {
            "tags": []
          }
        }
      ]
    },
    {
      "cell_type": "code",
      "metadata": {
        "colab": {
          "base_uri": "https://localhost:8080/"
        },
        "id": "ztv_I35RbbuK",
        "outputId": "b4441d03-f513-42ae-ff79-82786b789f1f"
      },
      "source": [
        "id = data.reset_index(drop = True).index\r\n",
        "id"
      ],
      "execution_count": null,
      "outputs": [
        {
          "output_type": "execute_result",
          "data": {
            "text/plain": [
              "RangeIndex(start=0, stop=4773, step=1)"
            ]
          },
          "metadata": {
            "tags": []
          },
          "execution_count": 86
        }
      ]
    },
    {
      "cell_type": "code",
      "metadata": {
        "id": "v6eXgENaM2UV"
      },
      "source": [
        "results_df = pd.DataFrame(data={'ID': id, 'Target': actual.reset_index(drop = True), \r\n",
        "                                'Predicted Target': predictions_rf_final, \r\n",
        "                                'Probability of Default': probabilities_rf_final})\r\n",
        "results_df.to_csv('/content/drive/MyDrive/Carbon/modelling_exercise_submission.csv', index=False)"
      ],
      "execution_count": null,
      "outputs": []
    },
    {
      "cell_type": "code",
      "metadata": {
        "colab": {
          "base_uri": "https://localhost:8080/",
          "height": 204
        },
        "id": "UCrYAkxedbN4",
        "outputId": "f714c3ba-868b-4d4e-af0d-d7cc46db3b09"
      },
      "source": [
        "results_df.head()"
      ],
      "execution_count": null,
      "outputs": [
        {
          "output_type": "execute_result",
          "data": {
            "text/html": [
              "<div>\n",
              "<style scoped>\n",
              "    .dataframe tbody tr th:only-of-type {\n",
              "        vertical-align: middle;\n",
              "    }\n",
              "\n",
              "    .dataframe tbody tr th {\n",
              "        vertical-align: top;\n",
              "    }\n",
              "\n",
              "    .dataframe thead th {\n",
              "        text-align: right;\n",
              "    }\n",
              "</style>\n",
              "<table border=\"1\" class=\"dataframe\">\n",
              "  <thead>\n",
              "    <tr style=\"text-align: right;\">\n",
              "      <th></th>\n",
              "      <th>ID</th>\n",
              "      <th>Target</th>\n",
              "      <th>Predicted Target</th>\n",
              "      <th>Probability of Default</th>\n",
              "    </tr>\n",
              "  </thead>\n",
              "  <tbody>\n",
              "    <tr>\n",
              "      <th>0</th>\n",
              "      <td>0</td>\n",
              "      <td>0</td>\n",
              "      <td>0</td>\n",
              "      <td>0.478682</td>\n",
              "    </tr>\n",
              "    <tr>\n",
              "      <th>1</th>\n",
              "      <td>1</td>\n",
              "      <td>0</td>\n",
              "      <td>1</td>\n",
              "      <td>0.504646</td>\n",
              "    </tr>\n",
              "    <tr>\n",
              "      <th>2</th>\n",
              "      <td>2</td>\n",
              "      <td>0</td>\n",
              "      <td>0</td>\n",
              "      <td>0.462854</td>\n",
              "    </tr>\n",
              "    <tr>\n",
              "      <th>3</th>\n",
              "      <td>3</td>\n",
              "      <td>0</td>\n",
              "      <td>1</td>\n",
              "      <td>0.538694</td>\n",
              "    </tr>\n",
              "    <tr>\n",
              "      <th>4</th>\n",
              "      <td>4</td>\n",
              "      <td>0</td>\n",
              "      <td>0</td>\n",
              "      <td>0.494827</td>\n",
              "    </tr>\n",
              "  </tbody>\n",
              "</table>\n",
              "</div>"
            ],
            "text/plain": [
              "   ID  Target  Predicted Target  Probability of Default\n",
              "0   0       0                 0                0.478682\n",
              "1   1       0                 1                0.504646\n",
              "2   2       0                 0                0.462854\n",
              "3   3       0                 1                0.538694\n",
              "4   4       0                 0                0.494827"
            ]
          },
          "metadata": {
            "tags": []
          },
          "execution_count": 93
        }
      ]
    },
    {
      "cell_type": "markdown",
      "metadata": {
        "id": "jE6GlOg1eL3N"
      },
      "source": [
        "# ***Seghe Momodu*** "
      ]
    },
    {
      "cell_type": "markdown",
      "metadata": {
        "id": "CB0V5hqqeWVL"
      },
      "source": [
        "February 18, 2021"
      ]
    }
  ]
}
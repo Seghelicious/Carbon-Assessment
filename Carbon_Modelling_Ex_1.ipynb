{
  "nbformat": 4,
  "nbformat_minor": 0,
  "metadata": {
    "colab": {
      "name": "Carbon Modelling Ex.#1.ipynb",
      "provenance": [],
      "collapsed_sections": [],
      "toc_visible": true,
      "authorship_tag": "ABX9TyNna/OSXsvAV9I5k60oXVUe",
      "include_colab_link": true
    },
    "kernelspec": {
      "name": "python3",
      "display_name": "Python 3"
    }
  },
  "cells": [
    {
      "cell_type": "markdown",
      "metadata": {
        "id": "view-in-github",
        "colab_type": "text"
      },
      "source": [
        "<a href=\"https://colab.research.google.com/github/Seghelicious/Carbon-Assessment/blob/main/Carbon_Modelling_Ex_1.ipynb\" target=\"_parent\"><img src=\"https://colab.research.google.com/assets/colab-badge.svg\" alt=\"Open In Colab\"/></a>"
      ]
    },
    {
      "cell_type": "markdown",
      "metadata": {
        "id": "UuLsD24qCJSc"
      },
      "source": [
        "# **Carbon Modelling Exercise #1**"
      ]
    },
    {
      "cell_type": "code",
      "metadata": {
        "colab": {
          "base_uri": "https://localhost:8080/"
        },
        "id": "cWwz9QaI_vnw",
        "outputId": "f064971b-306e-4441-b644-95edf329f76a"
      },
      "source": [
        "from google.colab import drive\r\n",
        "drive.mount('/content/drive')"
      ],
      "execution_count": null,
      "outputs": [
        {
          "output_type": "stream",
          "text": [
            "Mounted at /content/drive\n"
          ],
          "name": "stdout"
        }
      ]
    },
    {
      "cell_type": "code",
      "metadata": {
        "id": "UMKGWgweLiCH"
      },
      "source": [
        "import pandas as pd\r\n",
        "import numpy as np\r\n",
        "import seaborn as sns\r\n",
        "%matplotlib inline\r\n",
        "import matplotlib.pyplot as plt\r\n",
        "plt.rcParams[\"figure.figsize\"] = [12, 7]\r\n",
        "\r\n",
        "from sklearn.calibration import calibration_curve\r\n"
      ],
      "execution_count": null,
      "outputs": []
    },
    {
      "cell_type": "code",
      "metadata": {
        "id": "dRBuQKXPAXXd"
      },
      "source": [
        "ex1 = pd.read_csv('/content/drive/MyDrive/Carbon/Ex1 - Data.csv')"
      ],
      "execution_count": null,
      "outputs": []
    },
    {
      "cell_type": "code",
      "metadata": {
        "id": "XEEdxMawXJlk",
        "colab": {
          "base_uri": "https://localhost:8080/",
          "height": 204
        },
        "outputId": "ff8b6a29-433c-4656-8abe-f8822fcaabe4"
      },
      "source": [
        "ex1.head()"
      ],
      "execution_count": null,
      "outputs": [
        {
          "output_type": "execute_result",
          "data": {
            "text/html": [
              "<div>\n",
              "<style scoped>\n",
              "    .dataframe tbody tr th:only-of-type {\n",
              "        vertical-align: middle;\n",
              "    }\n",
              "\n",
              "    .dataframe tbody tr th {\n",
              "        vertical-align: top;\n",
              "    }\n",
              "\n",
              "    .dataframe thead th {\n",
              "        text-align: right;\n",
              "    }\n",
              "</style>\n",
              "<table border=\"1\" class=\"dataframe\">\n",
              "  <thead>\n",
              "    <tr style=\"text-align: right;\">\n",
              "      <th></th>\n",
              "      <th>loanid</th>\n",
              "      <th>model1</th>\n",
              "      <th>model2</th>\n",
              "      <th>target</th>\n",
              "      <th>sample</th>\n",
              "    </tr>\n",
              "  </thead>\n",
              "  <tbody>\n",
              "    <tr>\n",
              "      <th>0</th>\n",
              "      <td>1</td>\n",
              "      <td>0.014187</td>\n",
              "      <td>0.010911</td>\n",
              "      <td>0</td>\n",
              "      <td>testing</td>\n",
              "    </tr>\n",
              "    <tr>\n",
              "      <th>1</th>\n",
              "      <td>2</td>\n",
              "      <td>0.016760</td>\n",
              "      <td>0.029098</td>\n",
              "      <td>0</td>\n",
              "      <td>testing</td>\n",
              "    </tr>\n",
              "    <tr>\n",
              "      <th>2</th>\n",
              "      <td>3</td>\n",
              "      <td>0.015092</td>\n",
              "      <td>0.019482</td>\n",
              "      <td>0</td>\n",
              "      <td>testing</td>\n",
              "    </tr>\n",
              "    <tr>\n",
              "      <th>3</th>\n",
              "      <td>4</td>\n",
              "      <td>0.015403</td>\n",
              "      <td>0.019324</td>\n",
              "      <td>0</td>\n",
              "      <td>testing</td>\n",
              "    </tr>\n",
              "    <tr>\n",
              "      <th>4</th>\n",
              "      <td>5</td>\n",
              "      <td>0.020180</td>\n",
              "      <td>0.031430</td>\n",
              "      <td>0</td>\n",
              "      <td>testing</td>\n",
              "    </tr>\n",
              "  </tbody>\n",
              "</table>\n",
              "</div>"
            ],
            "text/plain": [
              "   loanid    model1    model2  target   sample\n",
              "0       1  0.014187  0.010911       0  testing\n",
              "1       2  0.016760  0.029098       0  testing\n",
              "2       3  0.015092  0.019482       0  testing\n",
              "3       4  0.015403  0.019324       0  testing\n",
              "4       5  0.020180  0.031430       0  testing"
            ]
          },
          "metadata": {
            "tags": []
          },
          "execution_count": 4
        }
      ]
    },
    {
      "cell_type": "code",
      "metadata": {
        "id": "7kVjUWzQVITx"
      },
      "source": [
        "# Model 1 (Training)\r\n",
        "model1_training = pd.DataFrame()\r\n",
        "model1_training['loanid'] = ex1['loanid']\r\n",
        "model1_training['prob_default'] = ex1[ex1['sample'] == 'training']['model1']\r\n",
        "model1_training['target'] = ex1['target']\r\n",
        "model1_training = model1_training.dropna()\r\n",
        "\r\n",
        "# Model 1 (Validation)\r\n",
        "model1_validation = pd.DataFrame()\r\n",
        "model1_validation['loanid'] = ex1['loanid']\r\n",
        "model1_validation['prob_default'] = ex1[ex1['sample'] == 'validation']['model1']\r\n",
        "model1_validation['target'] = ex1['target']\r\n",
        "model1_validation = model1_validation.dropna()\r\n",
        "\r\n",
        "# Model 1 (Testing)\r\n",
        "model1_testing = pd.DataFrame()\r\n",
        "model1_testing['loanid'] = ex1['loanid']\r\n",
        "model1_testing['prob_default'] = ex1[ex1['sample'] == 'testing']['model1']\r\n",
        "model1_testing['target'] = ex1['target']\r\n",
        "model1_testing = model1_testing.dropna()\r\n",
        "\r\n",
        "# Model 2 (Training)\r\n",
        "model2_training = pd.DataFrame()\r\n",
        "model2_training['loanid'] = ex1['loanid']\r\n",
        "model2_training['prob_default'] = ex1[ex1['sample'] == 'training']['model2']\r\n",
        "model2_training['target'] = ex1['target']\r\n",
        "model2_training = model2_training.dropna()\r\n",
        "\r\n",
        "# Model 2 (Validation)\r\n",
        "model2_validation = pd.DataFrame()\r\n",
        "model2_validation['loanid'] = ex1['loanid']\r\n",
        "model2_validation['prob_default'] = ex1[ex1['sample'] == 'validation']['model2']\r\n",
        "model2_validation['target'] = ex1['target']\r\n",
        "model2_validation = model2_validation.dropna()\r\n",
        "\r\n",
        "# Model 2 (Testing)\r\n",
        "model2_testing = pd.DataFrame()\r\n",
        "model2_testing['loanid'] = ex1['loanid']\r\n",
        "model2_testing['prob_default'] = ex1[ex1['sample'] == 'testing']['model2']\r\n",
        "model2_testing['target'] = ex1['target']\r\n",
        "model2_testing = model2_testing.dropna()"
      ],
      "execution_count": null,
      "outputs": []
    },
    {
      "cell_type": "markdown",
      "metadata": {
        "id": "ZwzHlPv5eoHZ"
      },
      "source": [
        "Check statistics of models' probabilities of default"
      ]
    },
    {
      "cell_type": "code",
      "metadata": {
        "id": "PL814SneUKpO",
        "colab": {
          "base_uri": "https://localhost:8080/"
        },
        "outputId": "9356ec2e-cabc-4eb8-b911-7cfb79c53a00"
      },
      "source": [
        "# Model 1\r\n",
        "fraction_of_positives1, mean_predicted_value1 = calibration_curve(model1_testing['target'].values, model1_testing['prob_default'].values, n_bins=10)\r\n",
        "print(fraction_of_positives1)\r\n",
        "print(mean_predicted_value1)"
      ],
      "execution_count": null,
      "outputs": [
        {
          "output_type": "stream",
          "text": [
            "[0.02276485 0.19230769 0.08333333 0.11111111 0.         0.\n",
            " 0.         0.         0.         0.        ]\n",
            "[0.01919142 0.12977152 0.23705965 0.36173209 0.46249957 0.53834743\n",
            " 0.65251543 0.79771217 0.8250187  0.94793326]\n"
          ],
          "name": "stdout"
        }
      ]
    },
    {
      "cell_type": "code",
      "metadata": {
        "id": "gJTc6qQ7py9R",
        "colab": {
          "base_uri": "https://localhost:8080/"
        },
        "outputId": "53c46c4d-af5d-40b6-9c5c-b4cc7507b395"
      },
      "source": [
        "# Model 2\r\n",
        "fraction_of_positives2, mean_predicted_value2 = calibration_curve(model2_testing['target'].values, model2_testing['prob_default'].values, n_bins=10)\r\n",
        "print(fraction_of_positives2)\r\n",
        "print(mean_predicted_value2)"
      ],
      "execution_count": null,
      "outputs": [
        {
          "output_type": "stream",
          "text": [
            "[0.02175032 0.12727273 0.1        0.         0.         0.\n",
            " 0.         0.        ]\n",
            "[0.02301153 0.13003067 0.23543236 0.33531563 0.43290978 0.58502546\n",
            " 0.63098899 0.70801037]\n"
          ],
          "name": "stdout"
        }
      ]
    },
    {
      "cell_type": "code",
      "metadata": {
        "id": "CO09Ml4GtnH0",
        "colab": {
          "base_uri": "https://localhost:8080/",
          "height": 458
        },
        "outputId": "d2f2aacb-782d-4886-8cbc-9b10432fb90e"
      },
      "source": [
        "plt.plot([0, 1], [0, 1], 'k:', label='Perfectly Calibrated')    \r\n",
        "plt.plot(mean_predicted_value1, fraction_of_positives1, 's-', label='%s' % 'Model 1')\r\n",
        "plt.plot(mean_predicted_value2, fraction_of_positives2, 's-', label='%s' % 'Model 2')\r\n",
        "plt.ylabel('Fraction of Positives')\r\n",
        "plt.xlabel('Average Predicted Probability')\r\n",
        "plt.legend()\r\n",
        "plt.title('Calibration Curve')\r\n",
        "plt.show()"
      ],
      "execution_count": null,
      "outputs": [
        {
          "output_type": "display_data",
          "data": {
            "image/png": "[encoded data removed]",
            "text/plain": [
              "<Figure size 864x504 with 1 Axes>"
            ]
          },
          "metadata": {
            "tags": [],
            "needs_background": "light"
          }
        }
      ]
    },
    {
      "cell_type": "markdown",
      "metadata": {
        "id": "HRbCg09fRKNF"
      },
      "source": [
        "To interpret this plot, there are two models - Model 1 and  Model 2. \r\n",
        "- Model 1 predicts a default event while Model 2 does not predict any default event.\r\n",
        "- In Model 1 event, there is a 19% default rate with a 13% probability of default.\r\n",
        "- When the model predicted probability of default is 13% [0.12977152], most of the loans actually default. \r\n",
        "- Here there is a majority of False Negatives (FN) occur and a default here could result in the loss of the entire loan.\r\n",
        "- Model 1 is having some difficulty accurately predicting the probability of default for loans in this sample.\r\n",
        "- When the probabilities of default are above 13% (between 24% [0.23705965] and 36% [0.36173209] most of the loans are actually non-defaults. \r\n",
        "- This is where most of the False Positives (FP) exist. These are loans that are declined because the model predicted them as defaults. These are potential loss of profit opportunities. \r\n",
        "- Overall, Model 1 returns more actionnable predictions in more samples than Model 2 does. Consequently, I shall be going forward with Model 1."
      ]
    },
    {
      "cell_type": "markdown",
      "metadata": {
        "id": "nL9QVrDnePjz"
      },
      "source": [
        "### **Compute the threshold value for 80% acceptance rate**\r\n"
      ]
    },
    {
      "cell_type": "code",
      "metadata": {
        "id": "VNJmZOrkeWeE",
        "colab": {
          "base_uri": "https://localhost:8080/"
        },
        "outputId": "556ccffb-6ecd-4e9b-c885-1bf17d1d1e26"
      },
      "source": [
        "model1_testing['prob_default'].describe()"
      ],
      "execution_count": null,
      "outputs": [
        {
          "output_type": "execute_result",
          "data": {
            "text/plain": [
              "count    7965.000000\n",
              "mean        0.022374\n",
              "std         0.038473\n",
              "min         0.011315\n",
              "25%         0.013701\n",
              "50%         0.015793\n",
              "75%         0.020385\n",
              "max         0.987241\n",
              "Name: prob_default, dtype: float64"
            ]
          },
          "metadata": {
            "tags": []
          },
          "execution_count": 9
        }
      ]
    },
    {
      "cell_type": "markdown",
      "metadata": {
        "id": "6EfWKlGreiff"
      },
      "source": [
        "### **Calculate the threshold for a 80% acceptance rate**"
      ]
    },
    {
      "cell_type": "code",
      "metadata": {
        "id": "v_892HAmehup",
        "colab": {
          "base_uri": "https://localhost:8080/"
        },
        "outputId": "405b8333-a246-4e55-d1ca-1b0139eb6b81"
      },
      "source": [
        "threshold_80 = np.quantile(model1_testing['prob_default'], 0.80)\r\n",
        "print(threshold_80)"
      ],
      "execution_count": null,
      "outputs": [
        {
          "output_type": "stream",
          "text": [
            "0.022479830880970324\n"
          ],
          "name": "stdout"
        }
      ]
    },
    {
      "cell_type": "markdown",
      "metadata": {
        "id": "w1hdURj6ftXz"
      },
      "source": [
        "### **Apply acceptance rate threshold**"
      ]
    },
    {
      "cell_type": "code",
      "metadata": {
        "id": "l7AVvil6Qrl3",
        "colab": {
          "base_uri": "https://localhost:8080/"
        },
        "outputId": "410bcdd6-f55e-440b-d205-3658588a7035"
      },
      "source": [
        "model1_testing['pred_loan_status'] = model1_testing['prob_default'].apply(lambda x: 1 if x > threshold_80 else 0)\r\n",
        "\r\n",
        "# Print the counts of loan status after the threshold\r\n",
        "print(model1_testing['pred_loan_status'].value_counts())"
      ],
      "execution_count": null,
      "outputs": [
        {
          "output_type": "stream",
          "text": [
            "0    6372\n",
            "1    1593\n",
            "Name: pred_loan_status, dtype: int64\n"
          ],
          "name": "stdout"
        }
      ]
    },
    {
      "cell_type": "code",
      "metadata": {
        "id": "q7aQNzvGQr6D",
        "colab": {
          "base_uri": "https://localhost:8080/",
          "height": 428
        },
        "outputId": "5d7e9b94-0dd6-4fbd-ddb9-80f26b3491f3"
      },
      "source": [
        "# Plot the predicted probabilities of default\r\n",
        "plt.hist(model1_testing['prob_default'], color = 'blue', bins = 10)\r\n",
        "\r\n",
        "# Calculate the threshold with quantile\r\n",
        "threshold = np.quantile(model1_testing['prob_default'], 0.80)\r\n",
        "\r\n",
        "# Add a reference line to the plot for the threshold\r\n",
        "plt.axvline(x = threshold, color = 'red')\r\n",
        "plt.show()"
      ],
      "execution_count": null,
      "outputs": [
        {
          "output_type": "display_data",
          "data": {
            "image/png": "[encoded data removed]",
            "text/plain": [
              "<Figure size 864x504 with 1 Axes>"
            ]
          },
          "metadata": {
            "tags": [],
            "needs_background": "light"
          }
        }
      ]
    },
    {
      "cell_type": "markdown",
      "metadata": {
        "id": "zTNTtgr6lCZQ"
      },
      "source": [
        "### **Create a subset of only accepted loans**"
      ]
    },
    {
      "cell_type": "code",
      "metadata": {
        "id": "2GJKKXUVkqpt",
        "colab": {
          "base_uri": "https://localhost:8080/"
        },
        "outputId": "d45a4937-ca98-49ac-ff23-463b79c88431"
      },
      "source": [
        "#print(model1_testing.head())\r\n",
        "accepted_loans = model1_testing[model1_testing['pred_loan_status'] == 0]\r\n",
        "accepted_loans['target'].value_counts()"
      ],
      "execution_count": null,
      "outputs": [
        {
          "output_type": "execute_result",
          "data": {
            "text/plain": [
              "0    6267\n",
              "1     105\n",
              "Name: target, dtype: int64"
            ]
          },
          "metadata": {
            "tags": []
          },
          "execution_count": 13
        }
      ]
    },
    {
      "cell_type": "markdown",
      "metadata": {
        "id": "o3gljTzfl39O"
      },
      "source": [
        "### **Calculate the bad rate**"
      ]
    },
    {
      "cell_type": "code",
      "metadata": {
        "id": "QBsgjSubLNNa",
        "colab": {
          "base_uri": "https://localhost:8080/"
        },
        "outputId": "32699e92-de4e-48da-dbe4-ce2f42696161"
      },
      "source": [
        "bad_rate = np.sum((accepted_loans['target']) / accepted_loans['target'].count())\r\n",
        "print(bad_rate)"
      ],
      "execution_count": null,
      "outputs": [
        {
          "output_type": "stream",
          "text": [
            "0.01647834274952919\n"
          ],
          "name": "stdout"
        }
      ]
    },
    {
      "cell_type": "code",
      "metadata": {
        "id": "AyrjDZ98NAkE"
      },
      "source": [
        "# Set all acceptance rates to test\r\n",
        "acceptance_rates = [1.0, 0.9, 0.8, 0.7, 0.6, 0.5, 0.4, 0.3, 0.2, 0.1]\r\n",
        "\r\n",
        "# Lists to store all thresholds and bad rates\r\n",
        "thresholds = []\r\n",
        "bad_rate = []\r\n",
        "\r\n",
        "for rate in acceptance_rates:\r\n",
        "  # Calculate threshold\r\n",
        "  threshold = np.quantile(model1_training['prob_default'], rate).round(3)\r\n",
        "  # Store threshold value in a list\r\n",
        "  thresholds.append(np.quantile(model1_validation['prob_default'], rate).round(3))\r\n",
        "  # Apply the threshold ro reassign loan status\r\n",
        "  model1_testing['pred_loan_status'] = model1_testing['prob_default'].apply(lambda x: 1 if x > threshold else 0)\r\n",
        "  # Create accepted loans set of predicted non-defaults\r\n",
        "  accepted_loans = model1_testing[model1_testing['pred_loan_status'] == 0]\r\n",
        "  # Calculate and store bad rate\r\n",
        "  bad_rate.append(np.sum((accepted_loans['target']) / accepted_loans['target'].count()).round(3))\r\n",
        "\r\n",
        "  strategy_df = pd.DataFrame(zip(acceptance_rates, thresholds, bad_rate),\r\n",
        "                             columns = ['Acceptance Rate', 'Threshold', 'Bad Rate'])\r\n"
      ],
      "execution_count": null,
      "outputs": []
    },
    {
      "cell_type": "code",
      "metadata": {
        "id": "Sewpi0fG99DA",
        "colab": {
          "base_uri": "https://localhost:8080/",
          "height": 359
        },
        "outputId": "812dc809-b7c8-480f-cdf2-8c14fae1ab0a"
      },
      "source": [
        "strategy_df"
      ],
      "execution_count": null,
      "outputs": [
        {
          "output_type": "execute_result",
          "data": {
            "text/html": [
              "<div>\n",
              "<style scoped>\n",
              "    .dataframe tbody tr th:only-of-type {\n",
              "        vertical-align: middle;\n",
              "    }\n",
              "\n",
              "    .dataframe tbody tr th {\n",
              "        vertical-align: top;\n",
              "    }\n",
              "\n",
              "    .dataframe thead th {\n",
              "        text-align: right;\n",
              "    }\n",
              "</style>\n",
              "<table border=\"1\" class=\"dataframe\">\n",
              "  <thead>\n",
              "    <tr style=\"text-align: right;\">\n",
              "      <th></th>\n",
              "      <th>Acceptance Rate</th>\n",
              "      <th>Threshold</th>\n",
              "      <th>Bad Rate</th>\n",
              "    </tr>\n",
              "  </thead>\n",
              "  <tbody>\n",
              "    <tr>\n",
              "      <th>0</th>\n",
              "      <td>1.0</td>\n",
              "      <td>0.978</td>\n",
              "      <td>0.024</td>\n",
              "    </tr>\n",
              "    <tr>\n",
              "      <th>1</th>\n",
              "      <td>0.9</td>\n",
              "      <td>0.022</td>\n",
              "      <td>0.018</td>\n",
              "    </tr>\n",
              "    <tr>\n",
              "      <th>2</th>\n",
              "      <td>0.8</td>\n",
              "      <td>0.018</td>\n",
              "      <td>0.014</td>\n",
              "    </tr>\n",
              "    <tr>\n",
              "      <th>3</th>\n",
              "      <td>0.7</td>\n",
              "      <td>0.017</td>\n",
              "      <td>0.010</td>\n",
              "    </tr>\n",
              "    <tr>\n",
              "      <th>4</th>\n",
              "      <td>0.6</td>\n",
              "      <td>0.015</td>\n",
              "      <td>0.009</td>\n",
              "    </tr>\n",
              "    <tr>\n",
              "      <th>5</th>\n",
              "      <td>0.5</td>\n",
              "      <td>0.015</td>\n",
              "      <td>0.006</td>\n",
              "    </tr>\n",
              "    <tr>\n",
              "      <th>6</th>\n",
              "      <td>0.4</td>\n",
              "      <td>0.014</td>\n",
              "      <td>0.003</td>\n",
              "    </tr>\n",
              "    <tr>\n",
              "      <th>7</th>\n",
              "      <td>0.3</td>\n",
              "      <td>0.014</td>\n",
              "      <td>0.003</td>\n",
              "    </tr>\n",
              "    <tr>\n",
              "      <th>8</th>\n",
              "      <td>0.2</td>\n",
              "      <td>0.013</td>\n",
              "      <td>0.002</td>\n",
              "    </tr>\n",
              "    <tr>\n",
              "      <th>9</th>\n",
              "      <td>0.1</td>\n",
              "      <td>0.013</td>\n",
              "      <td>0.002</td>\n",
              "    </tr>\n",
              "  </tbody>\n",
              "</table>\n",
              "</div>"
            ],
            "text/plain": [
              "   Acceptance Rate  Threshold  Bad Rate\n",
              "0              1.0      0.978     0.024\n",
              "1              0.9      0.022     0.018\n",
              "2              0.8      0.018     0.014\n",
              "3              0.7      0.017     0.010\n",
              "4              0.6      0.015     0.009\n",
              "5              0.5      0.015     0.006\n",
              "6              0.4      0.014     0.003\n",
              "7              0.3      0.014     0.003\n",
              "8              0.2      0.013     0.002\n",
              "9              0.1      0.013     0.002"
            ]
          },
          "metadata": {
            "tags": []
          },
          "execution_count": 16
        }
      ]
    }
  ]
}